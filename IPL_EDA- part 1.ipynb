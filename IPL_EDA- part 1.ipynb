{
 "cells": [
  {
   "cell_type": "code",
   "execution_count": 1,
   "id": "c2182edd",
   "metadata": {},
   "outputs": [
    {
     "data": {
      "text/html": [
       "'C:/Users/HPPC'"
      ],
      "text/latex": [
       "'C:/Users/HPPC'"
      ],
      "text/markdown": [
       "'C:/Users/HPPC'"
      ],
      "text/plain": [
       "[1] \"C:/Users/HPPC\""
      ]
     },
     "metadata": {},
     "output_type": "display_data"
    }
   ],
   "source": [
    "getwd()"
   ]
  },
  {
   "cell_type": "code",
   "execution_count": 37,
   "id": "15b9fbdf",
   "metadata": {},
   "outputs": [],
   "source": [
    "ipl = read.csv('IPL Matches 2008-2020.csv')"
   ]
  },
  {
   "cell_type": "code",
   "execution_count": 3,
   "id": "9ae1d678",
   "metadata": {},
   "outputs": [
    {
     "data": {
      "text/html": [
       "<table>\n",
       "<thead><tr><th scope=col>id</th><th scope=col>city</th><th scope=col>date</th><th scope=col>player_of_match</th><th scope=col>venue</th><th scope=col>neutral_venue</th><th scope=col>team1</th><th scope=col>team2</th><th scope=col>toss_winner</th><th scope=col>toss_decision</th><th scope=col>winner</th><th scope=col>result</th><th scope=col>result_margin</th><th scope=col>eliminator</th><th scope=col>method</th><th scope=col>umpire1</th><th scope=col>umpire2</th></tr></thead>\n",
       "<tbody>\n",
       "\t<tr><td>335982                                    </td><td>Bangalore                                 </td><td>18-04-2008                                </td><td>BB McCullum                               </td><td>M Chinnaswamy Stadium                     </td><td>0                                         </td><td>Royal Challengers Bangalore               </td><td>Kolkata Knight Riders                     </td><td>Royal Challengers Bangalore               </td><td>field                                     </td><td>Kolkata Knight Riders                     </td><td>runs                                      </td><td>140                                       </td><td>N                                         </td><td>NA                                        </td><td>Asad Rauf                                 </td><td>RE Koertzen                               </td></tr>\n",
       "\t<tr><td>335983                                    </td><td>Chandigarh                                </td><td>19-04-2008                                </td><td>MEK Hussey                                </td><td>Punjab Cricket Association Stadium, Mohali</td><td>0                                         </td><td>Kings XI Punjab                           </td><td>Chennai Super Kings                       </td><td>Chennai Super Kings                       </td><td>bat                                       </td><td>Chennai Super Kings                       </td><td>runs                                      </td><td> 33                                       </td><td>N                                         </td><td>NA                                        </td><td>MR Benson                                 </td><td>SL Shastri                                </td></tr>\n",
       "\t<tr><td>335984                                    </td><td>Delhi                                     </td><td>19-04-2008                                </td><td>MF Maharoof                               </td><td>Feroz Shah Kotla                          </td><td>0                                         </td><td>Delhi Daredevils                          </td><td>Rajasthan Royals                          </td><td>Rajasthan Royals                          </td><td>bat                                       </td><td>Delhi Daredevils                          </td><td>wickets                                   </td><td>  9                                       </td><td>N                                         </td><td>NA                                        </td><td>Aleem Dar                                 </td><td>GA Pratapkumar                            </td></tr>\n",
       "\t<tr><td>335985                                    </td><td>Mumbai                                    </td><td>20-04-2008                                </td><td>MV Boucher                                </td><td>Wankhede Stadium                          </td><td>0                                         </td><td>Mumbai Indians                            </td><td>Royal Challengers Bangalore               </td><td>Mumbai Indians                            </td><td>bat                                       </td><td>Royal Challengers Bangalore               </td><td>wickets                                   </td><td>  5                                       </td><td>N                                         </td><td>NA                                        </td><td>SJ Davis                                  </td><td>DJ Harper                                 </td></tr>\n",
       "\t<tr><td>335986                                    </td><td>Kolkata                                   </td><td>20-04-2008                                </td><td>DJ Hussey                                 </td><td>Eden Gardens                              </td><td>0                                         </td><td>Kolkata Knight Riders                     </td><td>Deccan Chargers                           </td><td>Deccan Chargers                           </td><td>bat                                       </td><td>Kolkata Knight Riders                     </td><td>wickets                                   </td><td>  5                                       </td><td>N                                         </td><td>NA                                        </td><td>BF Bowden                                 </td><td>K Hariharan                               </td></tr>\n",
       "\t<tr><td>335987                                    </td><td>Jaipur                                    </td><td>21-04-2008                                </td><td>SR Watson                                 </td><td>Sawai Mansingh Stadium                    </td><td>0                                         </td><td>Rajasthan Royals                          </td><td>Kings XI Punjab                           </td><td>Kings XI Punjab                           </td><td>bat                                       </td><td>Rajasthan Royals                          </td><td>wickets                                   </td><td>  6                                       </td><td>N                                         </td><td>NA                                        </td><td>Aleem Dar                                 </td><td>RB Tiffin                                 </td></tr>\n",
       "</tbody>\n",
       "</table>\n"
      ],
      "text/latex": [
       "\\begin{tabular}{r|lllllllllllllllll}\n",
       " id & city & date & player\\_of\\_match & venue & neutral\\_venue & team1 & team2 & toss\\_winner & toss\\_decision & winner & result & result\\_margin & eliminator & method & umpire1 & umpire2\\\\\n",
       "\\hline\n",
       "\t 335982                                     & Bangalore                                  & 18-04-2008                                 & BB McCullum                                & M Chinnaswamy Stadium                      & 0                                          & Royal Challengers Bangalore                & Kolkata Knight Riders                      & Royal Challengers Bangalore                & field                                      & Kolkata Knight Riders                      & runs                                       & 140                                        & N                                          & NA                                         & Asad Rauf                                  & RE Koertzen                               \\\\\n",
       "\t 335983                                     & Chandigarh                                 & 19-04-2008                                 & MEK Hussey                                 & Punjab Cricket Association Stadium, Mohali & 0                                          & Kings XI Punjab                            & Chennai Super Kings                        & Chennai Super Kings                        & bat                                        & Chennai Super Kings                        & runs                                       &  33                                        & N                                          & NA                                         & MR Benson                                  & SL Shastri                                \\\\\n",
       "\t 335984                                     & Delhi                                      & 19-04-2008                                 & MF Maharoof                                & Feroz Shah Kotla                           & 0                                          & Delhi Daredevils                           & Rajasthan Royals                           & Rajasthan Royals                           & bat                                        & Delhi Daredevils                           & wickets                                    &   9                                        & N                                          & NA                                         & Aleem Dar                                  & GA Pratapkumar                            \\\\\n",
       "\t 335985                                     & Mumbai                                     & 20-04-2008                                 & MV Boucher                                 & Wankhede Stadium                           & 0                                          & Mumbai Indians                             & Royal Challengers Bangalore                & Mumbai Indians                             & bat                                        & Royal Challengers Bangalore                & wickets                                    &   5                                        & N                                          & NA                                         & SJ Davis                                   & DJ Harper                                 \\\\\n",
       "\t 335986                                     & Kolkata                                    & 20-04-2008                                 & DJ Hussey                                  & Eden Gardens                               & 0                                          & Kolkata Knight Riders                      & Deccan Chargers                            & Deccan Chargers                            & bat                                        & Kolkata Knight Riders                      & wickets                                    &   5                                        & N                                          & NA                                         & BF Bowden                                  & K Hariharan                               \\\\\n",
       "\t 335987                                     & Jaipur                                     & 21-04-2008                                 & SR Watson                                  & Sawai Mansingh Stadium                     & 0                                          & Rajasthan Royals                           & Kings XI Punjab                            & Kings XI Punjab                            & bat                                        & Rajasthan Royals                           & wickets                                    &   6                                        & N                                          & NA                                         & Aleem Dar                                  & RB Tiffin                                 \\\\\n",
       "\\end{tabular}\n"
      ],
      "text/markdown": [
       "\n",
       "| id | city | date | player_of_match | venue | neutral_venue | team1 | team2 | toss_winner | toss_decision | winner | result | result_margin | eliminator | method | umpire1 | umpire2 |\n",
       "|---|---|---|---|---|---|---|---|---|---|---|---|---|---|---|---|---|\n",
       "| 335982                                     | Bangalore                                  | 18-04-2008                                 | BB McCullum                                | M Chinnaswamy Stadium                      | 0                                          | Royal Challengers Bangalore                | Kolkata Knight Riders                      | Royal Challengers Bangalore                | field                                      | Kolkata Knight Riders                      | runs                                       | 140                                        | N                                          | NA                                         | Asad Rauf                                  | RE Koertzen                                |\n",
       "| 335983                                     | Chandigarh                                 | 19-04-2008                                 | MEK Hussey                                 | Punjab Cricket Association Stadium, Mohali | 0                                          | Kings XI Punjab                            | Chennai Super Kings                        | Chennai Super Kings                        | bat                                        | Chennai Super Kings                        | runs                                       |  33                                        | N                                          | NA                                         | MR Benson                                  | SL Shastri                                 |\n",
       "| 335984                                     | Delhi                                      | 19-04-2008                                 | MF Maharoof                                | Feroz Shah Kotla                           | 0                                          | Delhi Daredevils                           | Rajasthan Royals                           | Rajasthan Royals                           | bat                                        | Delhi Daredevils                           | wickets                                    |   9                                        | N                                          | NA                                         | Aleem Dar                                  | GA Pratapkumar                             |\n",
       "| 335985                                     | Mumbai                                     | 20-04-2008                                 | MV Boucher                                 | Wankhede Stadium                           | 0                                          | Mumbai Indians                             | Royal Challengers Bangalore                | Mumbai Indians                             | bat                                        | Royal Challengers Bangalore                | wickets                                    |   5                                        | N                                          | NA                                         | SJ Davis                                   | DJ Harper                                  |\n",
       "| 335986                                     | Kolkata                                    | 20-04-2008                                 | DJ Hussey                                  | Eden Gardens                               | 0                                          | Kolkata Knight Riders                      | Deccan Chargers                            | Deccan Chargers                            | bat                                        | Kolkata Knight Riders                      | wickets                                    |   5                                        | N                                          | NA                                         | BF Bowden                                  | K Hariharan                                |\n",
       "| 335987                                     | Jaipur                                     | 21-04-2008                                 | SR Watson                                  | Sawai Mansingh Stadium                     | 0                                          | Rajasthan Royals                           | Kings XI Punjab                            | Kings XI Punjab                            | bat                                        | Rajasthan Royals                           | wickets                                    |   6                                        | N                                          | NA                                         | Aleem Dar                                  | RB Tiffin                                  |\n",
       "\n"
      ],
      "text/plain": [
       "  id     city       date       player_of_match\n",
       "1 335982 Bangalore  18-04-2008 BB McCullum    \n",
       "2 335983 Chandigarh 19-04-2008 MEK Hussey     \n",
       "3 335984 Delhi      19-04-2008 MF Maharoof    \n",
       "4 335985 Mumbai     20-04-2008 MV Boucher     \n",
       "5 335986 Kolkata    20-04-2008 DJ Hussey      \n",
       "6 335987 Jaipur     21-04-2008 SR Watson      \n",
       "  venue                                      neutral_venue\n",
       "1 M Chinnaswamy Stadium                      0            \n",
       "2 Punjab Cricket Association Stadium, Mohali 0            \n",
       "3 Feroz Shah Kotla                           0            \n",
       "4 Wankhede Stadium                           0            \n",
       "5 Eden Gardens                               0            \n",
       "6 Sawai Mansingh Stadium                     0            \n",
       "  team1                       team2                      \n",
       "1 Royal Challengers Bangalore Kolkata Knight Riders      \n",
       "2 Kings XI Punjab             Chennai Super Kings        \n",
       "3 Delhi Daredevils            Rajasthan Royals           \n",
       "4 Mumbai Indians              Royal Challengers Bangalore\n",
       "5 Kolkata Knight Riders       Deccan Chargers            \n",
       "6 Rajasthan Royals            Kings XI Punjab            \n",
       "  toss_winner                 toss_decision winner                      result \n",
       "1 Royal Challengers Bangalore field         Kolkata Knight Riders       runs   \n",
       "2 Chennai Super Kings         bat           Chennai Super Kings         runs   \n",
       "3 Rajasthan Royals            bat           Delhi Daredevils            wickets\n",
       "4 Mumbai Indians              bat           Royal Challengers Bangalore wickets\n",
       "5 Deccan Chargers             bat           Kolkata Knight Riders       wickets\n",
       "6 Kings XI Punjab             bat           Rajasthan Royals            wickets\n",
       "  result_margin eliminator method umpire1   umpire2       \n",
       "1 140           N          NA     Asad Rauf RE Koertzen   \n",
       "2  33           N          NA     MR Benson SL Shastri    \n",
       "3   9           N          NA     Aleem Dar GA Pratapkumar\n",
       "4   5           N          NA     SJ Davis  DJ Harper     \n",
       "5   5           N          NA     BF Bowden K Hariharan   \n",
       "6   6           N          NA     Aleem Dar RB Tiffin     "
      ]
     },
     "metadata": {},
     "output_type": "display_data"
    }
   ],
   "source": [
    "head(ipl)"
   ]
  },
  {
   "cell_type": "code",
   "execution_count": 4,
   "id": "11e51c86",
   "metadata": {},
   "outputs": [
    {
     "data": {
      "text/plain": [
       "       id                 city             date           player_of_match\n",
       " Min.   : 335982   Mumbai   :101   01-05-2008:  2   AB de Villiers: 23   \n",
       " 1st Qu.: 501228   Kolkata  : 77   01-05-2009:  2   CH Gayle      : 22   \n",
       " Median : 729298   Delhi    : 74   01-05-2011:  2   RG Sharma     : 18   \n",
       " Mean   : 756350   Bangalore: 65   01-05-2012:  2   DA Warner     : 17   \n",
       " 3rd Qu.:1082626   Hyderabad: 64   01-05-2013:  2   MS Dhoni      : 17   \n",
       " Max.   :1237181   (Other)  :422   01-05-2015:  2   (Other)       :715   \n",
       "                   NA's     : 13   (Other)   :804   NA's          :  4   \n",
       "                                       venue     neutral_venue    \n",
       " M Chinnaswamy Stadium                    : 80   Min.   :0.00000  \n",
       " Eden Gardens                             : 77   1st Qu.:0.00000  \n",
       " Feroz Shah Kotla                         : 74   Median :0.00000  \n",
       " Wankhede Stadium                         : 73   Mean   :0.09436  \n",
       " Rajiv Gandhi International Stadium, Uppal: 64   3rd Qu.:0.00000  \n",
       " MA Chidambaram Stadium, Chepauk          : 57   Max.   :1.00000  \n",
       " (Other)                                  :391                    \n",
       "                         team1                             team2    \n",
       " Royal Challengers Bangalore:108   Mumbai Indians             :106  \n",
       " Mumbai Indians             : 97   Kings XI Punjab            : 98  \n",
       " Kolkata Knight Riders      : 95   Kolkata Knight Riders      : 97  \n",
       " Chennai Super Kings        : 94   Rajasthan Royals           : 91  \n",
       " Kings XI Punjab            : 92   Royal Challengers Bangalore: 87  \n",
       " Delhi Daredevils           : 83   Chennai Super Kings        : 84  \n",
       " (Other)                    :247   (Other)                    :253  \n",
       "                      toss_winner  toss_decision\n",
       " Mumbai Indians             :106   bat  :320    \n",
       " Kolkata Knight Riders      : 98   field:496    \n",
       " Chennai Super Kings        : 97                \n",
       " Rajasthan Royals           : 87                \n",
       " Royal Challengers Bangalore: 87                \n",
       " Kings XI Punjab            : 85                \n",
       " (Other)                    :256                \n",
       "                         winner        result    result_margin    eliminator\n",
       " Mumbai Indians             :120   runs   :364   Min.   :  1.00   N   :799  \n",
       " Chennai Super Kings        :106   tie    : 13   1st Qu.:  6.00   Y   : 13  \n",
       " Kolkata Knight Riders      : 99   wickets:435   Median :  8.00   NA's:  4  \n",
       " Royal Challengers Bangalore: 91   NA's   :  4   Mean   : 17.32             \n",
       " Kings XI Punjab            : 88                 3rd Qu.: 19.50             \n",
       " (Other)                    :308                 Max.   :146.00             \n",
       " NA's                       :  4                 NA's   :17                 \n",
       "  method               umpire1             umpire2   \n",
       " D/L : 19   HDPK Dharmasena: 78   S Ravi       : 84  \n",
       " NA's:797   AK Chaudhary   : 56   C Shamshuddin: 60  \n",
       "            Asad Rauf      : 51   SJA Taufel   : 54  \n",
       "            M Erasmus      : 40   CK Nandan    : 49  \n",
       "            Aleem Dar      : 38   RJ Tucker    : 41  \n",
       "            BF Bowden      : 37   Nitin Menon  : 37  \n",
       "            (Other)        :516   (Other)      :491  "
      ]
     },
     "metadata": {},
     "output_type": "display_data"
    }
   ],
   "source": [
    "\n",
    "summary(ipl)"
   ]
  },
  {
   "cell_type": "markdown",
   "id": "be67f784",
   "metadata": {},
   "source": [
    "### Getting the Prerequisite Libraries"
   ]
  },
  {
   "cell_type": "code",
   "execution_count": 5,
   "id": "ad744122",
   "metadata": {},
   "outputs": [
    {
     "name": "stderr",
     "output_type": "stream",
     "text": [
      "\n",
      "Attaching package: 'dplyr'\n",
      "\n",
      "The following objects are masked from 'package:stats':\n",
      "\n",
      "    filter, lag\n",
      "\n",
      "The following objects are masked from 'package:base':\n",
      "\n",
      "    intersect, setdiff, setequal, union\n",
      "\n",
      "Registered S3 methods overwritten by 'ggplot2':\n",
      "  method         from \n",
      "  [.quosures     rlang\n",
      "  c.quosures     rlang\n",
      "  print.quosures rlang\n"
     ]
    }
   ],
   "source": [
    "library(dplyr)\n",
    "library(ggplot2)"
   ]
  },
  {
   "cell_type": "markdown",
   "id": "6ff5a001",
   "metadata": {},
   "source": [
    "## Most Number of Player of the Match Awards"
   ]
  },
  {
   "cell_type": "code",
   "execution_count": 6,
   "id": "ed2c054f",
   "metadata": {},
   "outputs": [
    {
     "name": "stderr",
     "output_type": "stream",
     "text": [
      "Warning message:\n",
      "\"Factor `player_of_match` contains implicit NA, consider using `forcats::fct_explicit_na`\""
     ]
    },
    {
     "data": {
      "text/html": [
       "<table>\n",
       "<thead><tr><th scope=col>player_of_match</th><th scope=col>Awards</th></tr></thead>\n",
       "<tbody>\n",
       "\t<tr><td>AB de Villiers</td><td>23            </td></tr>\n",
       "\t<tr><td>CH Gayle      </td><td>22            </td></tr>\n",
       "\t<tr><td>RG Sharma     </td><td>18            </td></tr>\n",
       "\t<tr><td>DA Warner     </td><td>17            </td></tr>\n",
       "\t<tr><td>MS Dhoni      </td><td>17            </td></tr>\n",
       "\t<tr><td>SR Watson     </td><td>16            </td></tr>\n",
       "\t<tr><td>YK Pathan     </td><td>16            </td></tr>\n",
       "\t<tr><td>SK Raina      </td><td>14            </td></tr>\n",
       "\t<tr><td>G Gambhir     </td><td>13            </td></tr>\n",
       "\t<tr><td>V Kohli       </td><td>13            </td></tr>\n",
       "</tbody>\n",
       "</table>\n"
      ],
      "text/latex": [
       "\\begin{tabular}{r|ll}\n",
       " player\\_of\\_match & Awards\\\\\n",
       "\\hline\n",
       "\t AB de Villiers & 23            \\\\\n",
       "\t CH Gayle       & 22            \\\\\n",
       "\t RG Sharma      & 18            \\\\\n",
       "\t DA Warner      & 17            \\\\\n",
       "\t MS Dhoni       & 17            \\\\\n",
       "\t SR Watson      & 16            \\\\\n",
       "\t YK Pathan      & 16            \\\\\n",
       "\t SK Raina       & 14            \\\\\n",
       "\t G Gambhir      & 13            \\\\\n",
       "\t V Kohli        & 13            \\\\\n",
       "\\end{tabular}\n"
      ],
      "text/markdown": [
       "\n",
       "| player_of_match | Awards |\n",
       "|---|---|\n",
       "| AB de Villiers | 23             |\n",
       "| CH Gayle       | 22             |\n",
       "| RG Sharma      | 18             |\n",
       "| DA Warner      | 17             |\n",
       "| MS Dhoni       | 17             |\n",
       "| SR Watson      | 16             |\n",
       "| YK Pathan      | 16             |\n",
       "| SK Raina       | 14             |\n",
       "| G Gambhir      | 13             |\n",
       "| V Kohli        | 13             |\n",
       "\n"
      ],
      "text/plain": [
       "   player_of_match Awards\n",
       "1  AB de Villiers  23    \n",
       "2  CH Gayle        22    \n",
       "3  RG Sharma       18    \n",
       "4  DA Warner       17    \n",
       "5  MS Dhoni        17    \n",
       "6  SR Watson       16    \n",
       "7  YK Pathan       16    \n",
       "8  SK Raina        14    \n",
       "9  G Gambhir       13    \n",
       "10 V Kohli         13    "
      ]
     },
     "metadata": {},
     "output_type": "display_data"
    }
   ],
   "source": [
    "most.mom = ipl %>% group_by(player_of_match) %>% \n",
    "  summarise(Awards = n()) %>% arrange(desc(Awards))\n",
    "\n",
    "most.mom = most.mom[1:10, ]\n",
    "\n",
    "most.mom\n",
    "\n",
    "options(warn = -1)"
   ]
  },
  {
   "cell_type": "code",
   "execution_count": 7,
   "id": "ce448af9",
   "metadata": {
    "scrolled": false
   },
   "outputs": [
    {
     "data": {
      "image/png": "[encoded data removed]",
      "text/plain": [
       "plot without title"
      ]
     },
     "metadata": {},
     "output_type": "display_data"
    }
   ],
   "source": [
    "ggplot(most.mom, aes(reorder(player_of_match, -Awards), Awards))+\n",
    "  geom_bar(stat = 'identity', fill = 'darkslategray4', col = 'black')+ \n",
    "  geom_text(aes(label = Awards, vjust = -0.5))+ theme_classic() +\n",
    "  labs(title = 'Most Man of Match Awards in IPL', x = 'Players',\n",
    "      tag = 'A1') + theme(legend.position = 'none')"
   ]
  },
  {
   "cell_type": "markdown",
   "id": "e1d5bb62",
   "metadata": {},
   "source": [
    "## MOST NO. OF MATCHES WON & PLAYED "
   ]
  },
  {
   "cell_type": "code",
   "execution_count": 8,
   "id": "a76fb490",
   "metadata": {},
   "outputs": [
    {
     "data": {
      "text/plain": [
       "\n",
       "        Chennai Super Kings             Deccan Chargers \n",
       "                         94                          39 \n",
       "             Delhi Capitals            Delhi Daredevils \n",
       "                         19                          83 \n",
       "              Gujarat Lions             Kings XI Punjab \n",
       "                         16                          92 \n",
       "       Kochi Tuskers Kerala       Kolkata Knight Riders \n",
       "                          7                          95 \n",
       "             Mumbai Indians               Pune Warriors \n",
       "                         97                          23 \n",
       "           Rajasthan Royals      Rising Pune Supergiant \n",
       "                         70                           7 \n",
       "    Rising Pune Supergiants Royal Challengers Bangalore \n",
       "                          7                         108 \n",
       "        Sunrisers Hyderabad \n",
       "                         59 "
      ]
     },
     "metadata": {},
     "output_type": "display_data"
    }
   ],
   "source": [
    "table(ipl$team1)"
   ]
  },
  {
   "cell_type": "markdown",
   "id": "c2dbeefd",
   "metadata": {},
   "source": [
    "### Due to change of ownership Deccan Chargers was renamed to Sunrisers Hyderabad but I am not considering those two as separate teams since both DC and SRH had same players in 2012 and 2013 only the name and jersey in changed. \n",
    "### Same case with Delhi Capitals and Delhi Daredevils"
   ]
  },
  {
   "cell_type": "code",
   "execution_count": 9,
   "id": "8196bbd5",
   "metadata": {},
   "outputs": [],
   "source": [
    "ipl[ipl == 'Deccan Chargers'] = 'Sunrisers Hyderabad'\n",
    "\n",
    "ipl[ipl == 'Delhi Daredevils'] = 'Delhi Capitals'\n",
    "\n",
    "ipl[ipl == 'Rising Pune Supergiant'] = 'Rising Pune Supergiants'"
   ]
  },
  {
   "cell_type": "code",
   "execution_count": 10,
   "id": "22c9a98e",
   "metadata": {},
   "outputs": [
    {
     "data": {
      "text/plain": [
       "\n",
       "        Chennai Super Kings             Deccan Chargers \n",
       "                         94                           0 \n",
       "             Delhi Capitals            Delhi Daredevils \n",
       "                        102                           0 \n",
       "              Gujarat Lions             Kings XI Punjab \n",
       "                         16                          92 \n",
       "       Kochi Tuskers Kerala       Kolkata Knight Riders \n",
       "                          7                          95 \n",
       "             Mumbai Indians               Pune Warriors \n",
       "                         97                          23 \n",
       "           Rajasthan Royals      Rising Pune Supergiant \n",
       "                         70                           0 \n",
       "    Rising Pune Supergiants Royal Challengers Bangalore \n",
       "                         14                         108 \n",
       "        Sunrisers Hyderabad \n",
       "                         98 "
      ]
     },
     "metadata": {},
     "output_type": "display_data"
    }
   ],
   "source": [
    "table(ipl$team1)"
   ]
  },
  {
   "cell_type": "markdown",
   "id": "b0433b02",
   "metadata": {},
   "source": [
    "## most matches won"
   ]
  },
  {
   "cell_type": "code",
   "execution_count": 12,
   "id": "da55f4d6",
   "metadata": {},
   "outputs": [
    {
     "data": {
      "text/html": [
       "<table>\n",
       "<thead><tr><th scope=col>winner</th><th scope=col>Wins</th></tr></thead>\n",
       "<tbody>\n",
       "\t<tr><td>Mumbai Indians             </td><td>120                        </td></tr>\n",
       "\t<tr><td>Chennai Super Kings        </td><td>106                        </td></tr>\n",
       "\t<tr><td>Kolkata Knight Riders      </td><td> 99                        </td></tr>\n",
       "\t<tr><td>Sunrisers Hyderabad        </td><td> 95                        </td></tr>\n",
       "\t<tr><td>Royal Challengers Bangalore</td><td> 91                        </td></tr>\n",
       "\t<tr><td>Kings XI Punjab            </td><td> 88                        </td></tr>\n",
       "\t<tr><td>Delhi Capitals             </td><td> 86                        </td></tr>\n",
       "\t<tr><td>Rajasthan Royals           </td><td> 81                        </td></tr>\n",
       "</tbody>\n",
       "</table>\n"
      ],
      "text/latex": [
       "\\begin{tabular}{r|ll}\n",
       " winner & Wins\\\\\n",
       "\\hline\n",
       "\t Mumbai Indians              & 120                        \\\\\n",
       "\t Chennai Super Kings         & 106                        \\\\\n",
       "\t Kolkata Knight Riders       &  99                        \\\\\n",
       "\t Sunrisers Hyderabad         &  95                        \\\\\n",
       "\t Royal Challengers Bangalore &  91                        \\\\\n",
       "\t Kings XI Punjab             &  88                        \\\\\n",
       "\t Delhi Capitals              &  86                        \\\\\n",
       "\t Rajasthan Royals            &  81                        \\\\\n",
       "\\end{tabular}\n"
      ],
      "text/markdown": [
       "\n",
       "| winner | Wins |\n",
       "|---|---|\n",
       "| Mumbai Indians              | 120                         |\n",
       "| Chennai Super Kings         | 106                         |\n",
       "| Kolkata Knight Riders       |  99                         |\n",
       "| Sunrisers Hyderabad         |  95                         |\n",
       "| Royal Challengers Bangalore |  91                         |\n",
       "| Kings XI Punjab             |  88                         |\n",
       "| Delhi Capitals              |  86                         |\n",
       "| Rajasthan Royals            |  81                         |\n",
       "\n"
      ],
      "text/plain": [
       "  winner                      Wins\n",
       "1 Mumbai Indians              120 \n",
       "2 Chennai Super Kings         106 \n",
       "3 Kolkata Knight Riders        99 \n",
       "4 Sunrisers Hyderabad          95 \n",
       "5 Royal Challengers Bangalore  91 \n",
       "6 Kings XI Punjab              88 \n",
       "7 Delhi Capitals               86 \n",
       "8 Rajasthan Royals             81 "
      ]
     },
     "metadata": {},
     "output_type": "display_data"
    }
   ],
   "source": [
    "wins.most = ipl %>% group_by(winner) %>% \n",
    "  summarise(Wins = n()) %>% arrange(desc(Wins))\n",
    "\n",
    "wins.most = wins.most[1:8,  ]  \n",
    "\n",
    "wins.most\n"
   ]
  },
  {
   "cell_type": "code",
   "execution_count": 14,
   "id": "08c5650d",
   "metadata": {},
   "outputs": [
    {
     "data": {
      "image/png": "[encoded data removed]",
      "text/plain": [
       "plot without title"
      ]
     },
     "metadata": {},
     "output_type": "display_data"
    }
   ],
   "source": [
    "ggplot(wins.most, aes(reorder(winner, Wins),Wins, fill = winner ))+ theme_classic()+\n",
    "  geom_bar(stat = 'identity') + geom_text(aes(label = Wins, hjust = -0.01))+\n",
    "  labs(title = 'Most no. of Matches Won by Each Team', x = 'Teams',\n",
    "       y = 'Number of wins', caption = 'Data Source: Kaggle', tag = 'A2')+\n",
    "  theme(legend.position = 'none')+ coord_flip() +\n",
    "  scale_fill_manual(values = c('Mumbai Indians' = 'steelblue',\n",
    "                   'Chennai Super Kings' = 'gold', 'Kolkata Knight Riders' = 'maroon4',\n",
    "                               'Sunrisers Hyderabad' = 'darkorange2', \n",
    "               'Royal Challengers Bangalore'= 'brown2', 'Kings XI Punjab'='firebrick1',\n",
    "                    'Delhi Capitals' = 'dodgerblue3', 'Rajasthan Royals' = 'maroon1'))"
   ]
  },
  {
   "cell_type": "markdown",
   "id": "5ffeacef",
   "metadata": {},
   "source": [
    "## most matches played"
   ]
  },
  {
   "cell_type": "code",
   "execution_count": 15,
   "id": "a7cff342",
   "metadata": {},
   "outputs": [
    {
     "data": {
      "text/html": [
       "<table>\n",
       "<thead><tr><th scope=col>team1</th><th scope=col>Matches.played1</th></tr></thead>\n",
       "<tbody>\n",
       "\t<tr><td>Chennai Super Kings        </td><td> 94                        </td></tr>\n",
       "\t<tr><td>Delhi Capitals             </td><td>102                        </td></tr>\n",
       "\t<tr><td>Gujarat Lions              </td><td> 16                        </td></tr>\n",
       "\t<tr><td>Kings XI Punjab            </td><td> 92                        </td></tr>\n",
       "\t<tr><td>Kochi Tuskers Kerala       </td><td>  7                        </td></tr>\n",
       "\t<tr><td>Kolkata Knight Riders      </td><td> 95                        </td></tr>\n",
       "\t<tr><td>Mumbai Indians             </td><td> 97                        </td></tr>\n",
       "\t<tr><td>Pune Warriors              </td><td> 23                        </td></tr>\n",
       "\t<tr><td>Rajasthan Royals           </td><td> 70                        </td></tr>\n",
       "\t<tr><td>Rising Pune Supergiants    </td><td> 14                        </td></tr>\n",
       "\t<tr><td>Royal Challengers Bangalore</td><td>108                        </td></tr>\n",
       "\t<tr><td>Sunrisers Hyderabad        </td><td> 98                        </td></tr>\n",
       "</tbody>\n",
       "</table>\n"
      ],
      "text/latex": [
       "\\begin{tabular}{r|ll}\n",
       " team1 & Matches.played1\\\\\n",
       "\\hline\n",
       "\t Chennai Super Kings         &  94                        \\\\\n",
       "\t Delhi Capitals              & 102                        \\\\\n",
       "\t Gujarat Lions               &  16                        \\\\\n",
       "\t Kings XI Punjab             &  92                        \\\\\n",
       "\t Kochi Tuskers Kerala        &   7                        \\\\\n",
       "\t Kolkata Knight Riders       &  95                        \\\\\n",
       "\t Mumbai Indians              &  97                        \\\\\n",
       "\t Pune Warriors               &  23                        \\\\\n",
       "\t Rajasthan Royals            &  70                        \\\\\n",
       "\t Rising Pune Supergiants     &  14                        \\\\\n",
       "\t Royal Challengers Bangalore & 108                        \\\\\n",
       "\t Sunrisers Hyderabad         &  98                        \\\\\n",
       "\\end{tabular}\n"
      ],
      "text/markdown": [
       "\n",
       "| team1 | Matches.played1 |\n",
       "|---|---|\n",
       "| Chennai Super Kings         |  94                         |\n",
       "| Delhi Capitals              | 102                         |\n",
       "| Gujarat Lions               |  16                         |\n",
       "| Kings XI Punjab             |  92                         |\n",
       "| Kochi Tuskers Kerala        |   7                         |\n",
       "| Kolkata Knight Riders       |  95                         |\n",
       "| Mumbai Indians              |  97                         |\n",
       "| Pune Warriors               |  23                         |\n",
       "| Rajasthan Royals            |  70                         |\n",
       "| Rising Pune Supergiants     |  14                         |\n",
       "| Royal Challengers Bangalore | 108                         |\n",
       "| Sunrisers Hyderabad         |  98                         |\n",
       "\n"
      ],
      "text/plain": [
       "   team1                       Matches.played1\n",
       "1  Chennai Super Kings          94            \n",
       "2  Delhi Capitals              102            \n",
       "3  Gujarat Lions                16            \n",
       "4  Kings XI Punjab              92            \n",
       "5  Kochi Tuskers Kerala          7            \n",
       "6  Kolkata Knight Riders        95            \n",
       "7  Mumbai Indians               97            \n",
       "8  Pune Warriors                23            \n",
       "9  Rajasthan Royals             70            \n",
       "10 Rising Pune Supergiants      14            \n",
       "11 Royal Challengers Bangalore 108            \n",
       "12 Sunrisers Hyderabad          98            "
      ]
     },
     "metadata": {},
     "output_type": "display_data"
    }
   ],
   "source": [
    "most.matches1 =  ipl %>% group_by(team1) %>% \n",
    "  summarise(Matches.played1 = n())\n",
    "\n",
    "most.matches1"
   ]
  },
  {
   "cell_type": "code",
   "execution_count": 16,
   "id": "25a487d1",
   "metadata": {},
   "outputs": [
    {
     "data": {
      "text/html": [
       "<table>\n",
       "<thead><tr><th scope=col>team2</th><th scope=col>Matches.played2</th></tr></thead>\n",
       "<tbody>\n",
       "\t<tr><td>Chennai Super Kings        </td><td> 84                        </td></tr>\n",
       "\t<tr><td>Delhi Capitals             </td><td> 92                        </td></tr>\n",
       "\t<tr><td>Gujarat Lions              </td><td> 14                        </td></tr>\n",
       "\t<tr><td>Kings XI Punjab            </td><td> 98                        </td></tr>\n",
       "\t<tr><td>Kochi Tuskers Kerala       </td><td>  7                        </td></tr>\n",
       "\t<tr><td>Kolkata Knight Riders      </td><td> 97                        </td></tr>\n",
       "\t<tr><td>Mumbai Indians             </td><td>106                        </td></tr>\n",
       "\t<tr><td>Pune Warriors              </td><td> 23                        </td></tr>\n",
       "\t<tr><td>Rajasthan Royals           </td><td> 91                        </td></tr>\n",
       "\t<tr><td>Rising Pune Supergiants    </td><td> 16                        </td></tr>\n",
       "\t<tr><td>Royal Challengers Bangalore</td><td> 87                        </td></tr>\n",
       "\t<tr><td>Sunrisers Hyderabad        </td><td>101                        </td></tr>\n",
       "</tbody>\n",
       "</table>\n"
      ],
      "text/latex": [
       "\\begin{tabular}{r|ll}\n",
       " team2 & Matches.played2\\\\\n",
       "\\hline\n",
       "\t Chennai Super Kings         &  84                        \\\\\n",
       "\t Delhi Capitals              &  92                        \\\\\n",
       "\t Gujarat Lions               &  14                        \\\\\n",
       "\t Kings XI Punjab             &  98                        \\\\\n",
       "\t Kochi Tuskers Kerala        &   7                        \\\\\n",
       "\t Kolkata Knight Riders       &  97                        \\\\\n",
       "\t Mumbai Indians              & 106                        \\\\\n",
       "\t Pune Warriors               &  23                        \\\\\n",
       "\t Rajasthan Royals            &  91                        \\\\\n",
       "\t Rising Pune Supergiants     &  16                        \\\\\n",
       "\t Royal Challengers Bangalore &  87                        \\\\\n",
       "\t Sunrisers Hyderabad         & 101                        \\\\\n",
       "\\end{tabular}\n"
      ],
      "text/markdown": [
       "\n",
       "| team2 | Matches.played2 |\n",
       "|---|---|\n",
       "| Chennai Super Kings         |  84                         |\n",
       "| Delhi Capitals              |  92                         |\n",
       "| Gujarat Lions               |  14                         |\n",
       "| Kings XI Punjab             |  98                         |\n",
       "| Kochi Tuskers Kerala        |   7                         |\n",
       "| Kolkata Knight Riders       |  97                         |\n",
       "| Mumbai Indians              | 106                         |\n",
       "| Pune Warriors               |  23                         |\n",
       "| Rajasthan Royals            |  91                         |\n",
       "| Rising Pune Supergiants     |  16                         |\n",
       "| Royal Challengers Bangalore |  87                         |\n",
       "| Sunrisers Hyderabad         | 101                         |\n",
       "\n"
      ],
      "text/plain": [
       "   team2                       Matches.played2\n",
       "1  Chennai Super Kings          84            \n",
       "2  Delhi Capitals               92            \n",
       "3  Gujarat Lions                14            \n",
       "4  Kings XI Punjab              98            \n",
       "5  Kochi Tuskers Kerala          7            \n",
       "6  Kolkata Knight Riders        97            \n",
       "7  Mumbai Indians              106            \n",
       "8  Pune Warriors                23            \n",
       "9  Rajasthan Royals             91            \n",
       "10 Rising Pune Supergiants      16            \n",
       "11 Royal Challengers Bangalore  87            \n",
       "12 Sunrisers Hyderabad         101            "
      ]
     },
     "metadata": {},
     "output_type": "display_data"
    }
   ],
   "source": [
    "most.matches2 = ipl %>% group_by(team2) %>% \n",
    "  summarise(Matches.played2 = n())\n",
    "\n",
    "most.matches2"
   ]
  },
  {
   "cell_type": "markdown",
   "id": "ba1188f1",
   "metadata": {},
   "source": [
    "### Binding both the dataframes as one: "
   ]
  },
  {
   "cell_type": "code",
   "execution_count": 17,
   "id": "dd95c154",
   "metadata": {},
   "outputs": [
    {
     "data": {
      "text/html": [
       "<table>\n",
       "<thead><tr><th scope=col>team1</th><th scope=col>Matches.played</th></tr></thead>\n",
       "<tbody>\n",
       "\t<tr><td>Mumbai Indians             </td><td>203                        </td></tr>\n",
       "\t<tr><td>Sunrisers Hyderabad        </td><td>199                        </td></tr>\n",
       "\t<tr><td>Royal Challengers Bangalore</td><td>195                        </td></tr>\n",
       "\t<tr><td>Delhi Capitals             </td><td>194                        </td></tr>\n",
       "\t<tr><td>Kolkata Knight Riders      </td><td>192                        </td></tr>\n",
       "\t<tr><td>Kings XI Punjab            </td><td>190                        </td></tr>\n",
       "\t<tr><td>Chennai Super Kings        </td><td>178                        </td></tr>\n",
       "\t<tr><td>Rajasthan Royals           </td><td>161                        </td></tr>\n",
       "\t<tr><td>Pune Warriors              </td><td> 46                        </td></tr>\n",
       "\t<tr><td>Gujarat Lions              </td><td> 30                        </td></tr>\n",
       "\t<tr><td>Rising Pune Supergiants    </td><td> 30                        </td></tr>\n",
       "\t<tr><td>Kochi Tuskers Kerala       </td><td> 14                        </td></tr>\n",
       "</tbody>\n",
       "</table>\n"
      ],
      "text/latex": [
       "\\begin{tabular}{r|ll}\n",
       " team1 & Matches.played\\\\\n",
       "\\hline\n",
       "\t Mumbai Indians              & 203                        \\\\\n",
       "\t Sunrisers Hyderabad         & 199                        \\\\\n",
       "\t Royal Challengers Bangalore & 195                        \\\\\n",
       "\t Delhi Capitals              & 194                        \\\\\n",
       "\t Kolkata Knight Riders       & 192                        \\\\\n",
       "\t Kings XI Punjab             & 190                        \\\\\n",
       "\t Chennai Super Kings         & 178                        \\\\\n",
       "\t Rajasthan Royals            & 161                        \\\\\n",
       "\t Pune Warriors               &  46                        \\\\\n",
       "\t Gujarat Lions               &  30                        \\\\\n",
       "\t Rising Pune Supergiants     &  30                        \\\\\n",
       "\t Kochi Tuskers Kerala        &  14                        \\\\\n",
       "\\end{tabular}\n"
      ],
      "text/markdown": [
       "\n",
       "| team1 | Matches.played |\n",
       "|---|---|\n",
       "| Mumbai Indians              | 203                         |\n",
       "| Sunrisers Hyderabad         | 199                         |\n",
       "| Royal Challengers Bangalore | 195                         |\n",
       "| Delhi Capitals              | 194                         |\n",
       "| Kolkata Knight Riders       | 192                         |\n",
       "| Kings XI Punjab             | 190                         |\n",
       "| Chennai Super Kings         | 178                         |\n",
       "| Rajasthan Royals            | 161                         |\n",
       "| Pune Warriors               |  46                         |\n",
       "| Gujarat Lions               |  30                         |\n",
       "| Rising Pune Supergiants     |  30                         |\n",
       "| Kochi Tuskers Kerala        |  14                         |\n",
       "\n"
      ],
      "text/plain": [
       "   team1                       Matches.played\n",
       "1  Mumbai Indians              203           \n",
       "2  Sunrisers Hyderabad         199           \n",
       "3  Royal Challengers Bangalore 195           \n",
       "4  Delhi Capitals              194           \n",
       "5  Kolkata Knight Riders       192           \n",
       "6  Kings XI Punjab             190           \n",
       "7  Chennai Super Kings         178           \n",
       "8  Rajasthan Royals            161           \n",
       "9  Pune Warriors                46           \n",
       "10 Gujarat Lions                30           \n",
       "11 Rising Pune Supergiants      30           \n",
       "12 Kochi Tuskers Kerala         14           "
      ]
     },
     "metadata": {},
     "output_type": "display_data"
    }
   ],
   "source": [
    "most.matches = cbind(most.matches1, most.matches2)\n",
    "\n",
    "most.matches = most.matches %>% mutate(Matches.played = Matches.played1 + \n",
    "                                         Matches.played2) %>% \n",
    "  select(team1, Matches.played) %>% arrange(desc(Matches.played))\n",
    "\n",
    "most.matches"
   ]
  },
  {
   "cell_type": "markdown",
   "id": "d5a6f54e",
   "metadata": {},
   "source": [
    "### Removing Kochi, Gujarat and two Pune teams: "
   ]
  },
  {
   "cell_type": "code",
   "execution_count": 18,
   "id": "0ebb3d68",
   "metadata": {},
   "outputs": [
    {
     "data": {
      "text/html": [
       "<table>\n",
       "<thead><tr><th scope=col>team1</th><th scope=col>Matches.played</th></tr></thead>\n",
       "<tbody>\n",
       "\t<tr><td>Mumbai Indians             </td><td>203                        </td></tr>\n",
       "\t<tr><td>Sunrisers Hyderabad        </td><td>199                        </td></tr>\n",
       "\t<tr><td>Royal Challengers Bangalore</td><td>195                        </td></tr>\n",
       "\t<tr><td>Delhi Capitals             </td><td>194                        </td></tr>\n",
       "\t<tr><td>Kolkata Knight Riders      </td><td>192                        </td></tr>\n",
       "\t<tr><td>Kings XI Punjab            </td><td>190                        </td></tr>\n",
       "\t<tr><td>Chennai Super Kings        </td><td>178                        </td></tr>\n",
       "\t<tr><td>Rajasthan Royals           </td><td>161                        </td></tr>\n",
       "</tbody>\n",
       "</table>\n"
      ],
      "text/latex": [
       "\\begin{tabular}{r|ll}\n",
       " team1 & Matches.played\\\\\n",
       "\\hline\n",
       "\t Mumbai Indians              & 203                        \\\\\n",
       "\t Sunrisers Hyderabad         & 199                        \\\\\n",
       "\t Royal Challengers Bangalore & 195                        \\\\\n",
       "\t Delhi Capitals              & 194                        \\\\\n",
       "\t Kolkata Knight Riders       & 192                        \\\\\n",
       "\t Kings XI Punjab             & 190                        \\\\\n",
       "\t Chennai Super Kings         & 178                        \\\\\n",
       "\t Rajasthan Royals            & 161                        \\\\\n",
       "\\end{tabular}\n"
      ],
      "text/markdown": [
       "\n",
       "| team1 | Matches.played |\n",
       "|---|---|\n",
       "| Mumbai Indians              | 203                         |\n",
       "| Sunrisers Hyderabad         | 199                         |\n",
       "| Royal Challengers Bangalore | 195                         |\n",
       "| Delhi Capitals              | 194                         |\n",
       "| Kolkata Knight Riders       | 192                         |\n",
       "| Kings XI Punjab             | 190                         |\n",
       "| Chennai Super Kings         | 178                         |\n",
       "| Rajasthan Royals            | 161                         |\n",
       "\n"
      ],
      "text/plain": [
       "  team1                       Matches.played\n",
       "1 Mumbai Indians              203           \n",
       "2 Sunrisers Hyderabad         199           \n",
       "3 Royal Challengers Bangalore 195           \n",
       "4 Delhi Capitals              194           \n",
       "5 Kolkata Knight Riders       192           \n",
       "6 Kings XI Punjab             190           \n",
       "7 Chennai Super Kings         178           \n",
       "8 Rajasthan Royals            161           "
      ]
     },
     "metadata": {},
     "output_type": "display_data"
    }
   ],
   "source": [
    "most.matches = most.matches[1:8, ]\n",
    "\n",
    "most.matches\n"
   ]
  },
  {
   "cell_type": "code",
   "execution_count": 20,
   "id": "a1b61730",
   "metadata": {},
   "outputs": [
    {
     "data": {
      "image/png": "[encoded data removed]",
      "text/plain": [
       "plot without title"
      ]
     },
     "metadata": {},
     "output_type": "display_data"
    }
   ],
   "source": [
    "ggplot(most.matches, aes(reorder(team1,Matches.played), Matches.played,\n",
    "                         fill = team1))+ coord_flip()+\n",
    "  theme_classic()+ geom_bar(stat = 'identity') + \n",
    "  geom_text( aes(label = Matches.played, hjust = -0.01))+\n",
    "  labs(y = 'Number of Matches', tag = 'A3', x = 'Teams',\n",
    "       title ='Most number of Matches Played by each team') + \n",
    "  theme(legend.position = 'none')+\n",
    "  scale_fill_manual(values = c('Mumbai Indians' = 'steelblue',\n",
    "                               'Chennai Super Kings' = 'gold', 'Kolkata Knight Riders' = 'maroon4',\n",
    "                               'Sunrisers Hyderabad' = 'darkorange2', \n",
    "                               'Royal Challengers Bangalore'= 'brown2', 'Kings XI Punjab'='firebrick1',\n",
    "                               'Delhi Capitals' = 'dodgerblue3', 'Rajasthan Royals' = 'maroon1'))"
   ]
  },
  {
   "cell_type": "markdown",
   "id": "594315bb",
   "metadata": {},
   "source": [
    "### WIN TO MATCH RATIO:"
   ]
  },
  {
   "cell_type": "code",
   "execution_count": 21,
   "id": "7bc60ed0",
   "metadata": {},
   "outputs": [
    {
     "data": {
      "text/html": [
       "<table>\n",
       "<thead><tr><th scope=col>team1</th><th scope=col>Matches.played</th><th scope=col>Wins</th><th scope=col>Win.per.Match.ratio</th></tr></thead>\n",
       "<tbody>\n",
       "\t<tr><td>Chennai Super Kings        </td><td>178                        </td><td>106                        </td><td>59.55%                     </td></tr>\n",
       "\t<tr><td>Delhi Capitals             </td><td>194                        </td><td> 86                        </td><td>44.33%                     </td></tr>\n",
       "\t<tr><td>Kings XI Punjab            </td><td>190                        </td><td> 88                        </td><td>46.32%                     </td></tr>\n",
       "\t<tr><td>Kolkata Knight Riders      </td><td>192                        </td><td> 99                        </td><td>51.56%                     </td></tr>\n",
       "\t<tr><td>Mumbai Indians             </td><td>203                        </td><td>120                        </td><td>59.11%                     </td></tr>\n",
       "\t<tr><td>Rajasthan Royals           </td><td>161                        </td><td> 81                        </td><td>50.31%                     </td></tr>\n",
       "\t<tr><td>Royal Challengers Bangalore</td><td>195                        </td><td> 91                        </td><td>46.67%                     </td></tr>\n",
       "\t<tr><td>Sunrisers Hyderabad        </td><td>199                        </td><td> 95                        </td><td>47.74%                     </td></tr>\n",
       "</tbody>\n",
       "</table>\n"
      ],
      "text/latex": [
       "\\begin{tabular}{r|llll}\n",
       " team1 & Matches.played & Wins & Win.per.Match.ratio\\\\\n",
       "\\hline\n",
       "\t Chennai Super Kings         & 178                         & 106                         & 59.55\\%                   \\\\\n",
       "\t Delhi Capitals              & 194                         &  86                         & 44.33\\%                   \\\\\n",
       "\t Kings XI Punjab             & 190                         &  88                         & 46.32\\%                   \\\\\n",
       "\t Kolkata Knight Riders       & 192                         &  99                         & 51.56\\%                   \\\\\n",
       "\t Mumbai Indians              & 203                         & 120                         & 59.11\\%                   \\\\\n",
       "\t Rajasthan Royals            & 161                         &  81                         & 50.31\\%                   \\\\\n",
       "\t Royal Challengers Bangalore & 195                         &  91                         & 46.67\\%                   \\\\\n",
       "\t Sunrisers Hyderabad         & 199                         &  95                         & 47.74\\%                   \\\\\n",
       "\\end{tabular}\n"
      ],
      "text/markdown": [
       "\n",
       "| team1 | Matches.played | Wins | Win.per.Match.ratio |\n",
       "|---|---|---|---|\n",
       "| Chennai Super Kings         | 178                         | 106                         | 59.55%                      |\n",
       "| Delhi Capitals              | 194                         |  86                         | 44.33%                      |\n",
       "| Kings XI Punjab             | 190                         |  88                         | 46.32%                      |\n",
       "| Kolkata Knight Riders       | 192                         |  99                         | 51.56%                      |\n",
       "| Mumbai Indians              | 203                         | 120                         | 59.11%                      |\n",
       "| Rajasthan Royals            | 161                         |  81                         | 50.31%                      |\n",
       "| Royal Challengers Bangalore | 195                         |  91                         | 46.67%                      |\n",
       "| Sunrisers Hyderabad         | 199                         |  95                         | 47.74%                      |\n",
       "\n"
      ],
      "text/plain": [
       "  team1                       Matches.played Wins Win.per.Match.ratio\n",
       "1 Chennai Super Kings         178            106  59.55%             \n",
       "2 Delhi Capitals              194             86  44.33%             \n",
       "3 Kings XI Punjab             190             88  46.32%             \n",
       "4 Kolkata Knight Riders       192             99  51.56%             \n",
       "5 Mumbai Indians              203            120  59.11%             \n",
       "6 Rajasthan Royals            161             81  50.31%             \n",
       "7 Royal Challengers Bangalore 195             91  46.67%             \n",
       "8 Sunrisers Hyderabad         199             95  47.74%             "
      ]
     },
     "metadata": {},
     "output_type": "display_data"
    }
   ],
   "source": [
    "wins.most = arrange(wins.most, winner)\n",
    "\n",
    "most.matches = arrange(most.matches, team1)\n",
    "\n",
    "win.match.ratio = cbind(wins.most, most.matches)\n",
    "\n",
    "win.match.ratio = win.match.ratio %>% group_by(team1) %>% \n",
    "  mutate(Win.per.Match.ratio = round(Wins/Matches.played * 100, digits = 2)) %>% \n",
    "  select(team1,Matches.played, Wins, Win.per.Match.ratio)\n",
    "\n",
    "win.match.ratio$Win.per.Match.ratio = paste0(win.match.ratio$Win.per.Match.ratio, '%')\n",
    "\n",
    "win.match.ratio\n",
    "\n",
    "\n"
   ]
  },
  {
   "cell_type": "code",
   "execution_count": 22,
   "id": "a6a2eefe",
   "metadata": {},
   "outputs": [
    {
     "data": {
      "image/png": "[encoded data removed]",
      "text/plain": [
       "plot without title"
      ]
     },
     "metadata": {},
     "output_type": "display_data"
    }
   ],
   "source": [
    "ggplot(win.match.ratio, aes(team1, Win.per.Match.ratio, fill = team1))+\n",
    "  geom_bar(stat = 'identity')+ theme_classic()+ \n",
    "  geom_text(aes(label=Win.per.Match.ratio, hjust = -0.05))+\n",
    "  labs(title = 'Graph on Success Rate of Winning Matches', y = 'Win Percentage %',\n",
    "       caption = 'Data Source: Kaggle', tag = 'A4') + \n",
    "  theme(legend.position = 'none')+ coord_flip()+\n",
    "  scale_fill_manual(values = c('Mumbai Indians' = 'steelblue',\n",
    "                               'Chennai Super Kings' = 'gold', 'Kolkata Knight Riders' = 'maroon4',\n",
    "                               'Sunrisers Hyderabad' = 'darkorange2', \n",
    "                               'Royal Challengers Bangalore'= 'brown2', 'Kings XI Punjab'='firebrick1',\n",
    "                               'Delhi Capitals' = 'dodgerblue3', 'Rajasthan Royals' = 'maroon1'))"
   ]
  },
  {
   "cell_type": "markdown",
   "id": "a1ac2bce",
   "metadata": {},
   "source": [
    "## TOSS/MATCH WIN RATIO\n",
    "\n"
   ]
  },
  {
   "cell_type": "markdown",
   "id": "f429d88b",
   "metadata": {},
   "source": [
    "### Most toss winners: "
   ]
  },
  {
   "cell_type": "code",
   "execution_count": 23,
   "id": "9f34e33d",
   "metadata": {},
   "outputs": [
    {
     "data": {
      "text/html": [
       "<table>\n",
       "<thead><tr><th scope=col>toss_winner</th><th scope=col>No.of.times</th></tr></thead>\n",
       "<tbody>\n",
       "\t<tr><td>Chennai Super Kings        </td><td> 97                        </td></tr>\n",
       "\t<tr><td>Delhi Capitals             </td><td>100                        </td></tr>\n",
       "\t<tr><td>Kings XI Punjab            </td><td> 85                        </td></tr>\n",
       "\t<tr><td>Kolkata Knight Riders      </td><td> 98                        </td></tr>\n",
       "\t<tr><td>Mumbai Indians             </td><td>106                        </td></tr>\n",
       "\t<tr><td>Rajasthan Royals           </td><td> 87                        </td></tr>\n",
       "\t<tr><td>Royal Challengers Bangalore</td><td> 87                        </td></tr>\n",
       "\t<tr><td>Sunrisers Hyderabad        </td><td>100                        </td></tr>\n",
       "</tbody>\n",
       "</table>\n"
      ],
      "text/latex": [
       "\\begin{tabular}{r|ll}\n",
       " toss\\_winner & No.of.times\\\\\n",
       "\\hline\n",
       "\t Chennai Super Kings         &  97                        \\\\\n",
       "\t Delhi Capitals              & 100                        \\\\\n",
       "\t Kings XI Punjab             &  85                        \\\\\n",
       "\t Kolkata Knight Riders       &  98                        \\\\\n",
       "\t Mumbai Indians              & 106                        \\\\\n",
       "\t Rajasthan Royals            &  87                        \\\\\n",
       "\t Royal Challengers Bangalore &  87                        \\\\\n",
       "\t Sunrisers Hyderabad         & 100                        \\\\\n",
       "\\end{tabular}\n"
      ],
      "text/markdown": [
       "\n",
       "| toss_winner | No.of.times |\n",
       "|---|---|\n",
       "| Chennai Super Kings         |  97                         |\n",
       "| Delhi Capitals              | 100                         |\n",
       "| Kings XI Punjab             |  85                         |\n",
       "| Kolkata Knight Riders       |  98                         |\n",
       "| Mumbai Indians              | 106                         |\n",
       "| Rajasthan Royals            |  87                         |\n",
       "| Royal Challengers Bangalore |  87                         |\n",
       "| Sunrisers Hyderabad         | 100                         |\n",
       "\n"
      ],
      "text/plain": [
       "  toss_winner                 No.of.times\n",
       "1 Chennai Super Kings          97        \n",
       "2 Delhi Capitals              100        \n",
       "3 Kings XI Punjab              85        \n",
       "4 Kolkata Knight Riders        98        \n",
       "5 Mumbai Indians              106        \n",
       "6 Rajasthan Royals             87        \n",
       "7 Royal Challengers Bangalore  87        \n",
       "8 Sunrisers Hyderabad         100        "
      ]
     },
     "metadata": {},
     "output_type": "display_data"
    }
   ],
   "source": [
    "toss.win = ipl %>% group_by(toss_winner) %>% \n",
    "  summarise(No.of.times = n()) %>% arrange(toss_winner)\n",
    "\n",
    "\n",
    "toss.win = toss.win[ -c(3,5,8,10), ]\n",
    "\n",
    "toss.win"
   ]
  },
  {
   "cell_type": "code",
   "execution_count": 24,
   "id": "488471d7",
   "metadata": {},
   "outputs": [
    {
     "data": {
      "text/html": [
       "<table>\n",
       "<thead><tr><th scope=col>team1</th><th scope=col>Matches.played</th><th scope=col>No.of.times</th><th scope=col>Ratio</th></tr></thead>\n",
       "<tbody>\n",
       "\t<tr><td>Chennai Super Kings        </td><td>178                        </td><td> 97                        </td><td>54.49%                     </td></tr>\n",
       "\t<tr><td>Delhi Capitals             </td><td>194                        </td><td>100                        </td><td>51.55%                     </td></tr>\n",
       "\t<tr><td>Kings XI Punjab            </td><td>190                        </td><td> 85                        </td><td>44.74%                     </td></tr>\n",
       "\t<tr><td>Kolkata Knight Riders      </td><td>192                        </td><td> 98                        </td><td>51.04%                     </td></tr>\n",
       "\t<tr><td>Mumbai Indians             </td><td>203                        </td><td>106                        </td><td>52.22%                     </td></tr>\n",
       "\t<tr><td>Rajasthan Royals           </td><td>161                        </td><td> 87                        </td><td>54.04%                     </td></tr>\n",
       "\t<tr><td>Royal Challengers Bangalore</td><td>195                        </td><td> 87                        </td><td>44.62%                     </td></tr>\n",
       "\t<tr><td>Sunrisers Hyderabad        </td><td>199                        </td><td>100                        </td><td>50.25%                     </td></tr>\n",
       "</tbody>\n",
       "</table>\n"
      ],
      "text/latex": [
       "\\begin{tabular}{r|llll}\n",
       " team1 & Matches.played & No.of.times & Ratio\\\\\n",
       "\\hline\n",
       "\t Chennai Super Kings         & 178                         &  97                         & 54.49\\%                   \\\\\n",
       "\t Delhi Capitals              & 194                         & 100                         & 51.55\\%                   \\\\\n",
       "\t Kings XI Punjab             & 190                         &  85                         & 44.74\\%                   \\\\\n",
       "\t Kolkata Knight Riders       & 192                         &  98                         & 51.04\\%                   \\\\\n",
       "\t Mumbai Indians              & 203                         & 106                         & 52.22\\%                   \\\\\n",
       "\t Rajasthan Royals            & 161                         &  87                         & 54.04\\%                   \\\\\n",
       "\t Royal Challengers Bangalore & 195                         &  87                         & 44.62\\%                   \\\\\n",
       "\t Sunrisers Hyderabad         & 199                         & 100                         & 50.25\\%                   \\\\\n",
       "\\end{tabular}\n"
      ],
      "text/markdown": [
       "\n",
       "| team1 | Matches.played | No.of.times | Ratio |\n",
       "|---|---|---|---|\n",
       "| Chennai Super Kings         | 178                         |  97                         | 54.49%                      |\n",
       "| Delhi Capitals              | 194                         | 100                         | 51.55%                      |\n",
       "| Kings XI Punjab             | 190                         |  85                         | 44.74%                      |\n",
       "| Kolkata Knight Riders       | 192                         |  98                         | 51.04%                      |\n",
       "| Mumbai Indians              | 203                         | 106                         | 52.22%                      |\n",
       "| Rajasthan Royals            | 161                         |  87                         | 54.04%                      |\n",
       "| Royal Challengers Bangalore | 195                         |  87                         | 44.62%                      |\n",
       "| Sunrisers Hyderabad         | 199                         | 100                         | 50.25%                      |\n",
       "\n"
      ],
      "text/plain": [
       "  team1                       Matches.played No.of.times Ratio \n",
       "1 Chennai Super Kings         178             97         54.49%\n",
       "2 Delhi Capitals              194            100         51.55%\n",
       "3 Kings XI Punjab             190             85         44.74%\n",
       "4 Kolkata Knight Riders       192             98         51.04%\n",
       "5 Mumbai Indians              203            106         52.22%\n",
       "6 Rajasthan Royals            161             87         54.04%\n",
       "7 Royal Challengers Bangalore 195             87         44.62%\n",
       "8 Sunrisers Hyderabad         199            100         50.25%"
      ]
     },
     "metadata": {},
     "output_type": "display_data"
    }
   ],
   "source": [
    "toss.match.win.ratio = cbind(toss.win, most.matches)\n",
    "\n",
    "toss.match.win.ratio = toss.match.win.ratio %>% group_by(team1) %>% \n",
    "  mutate(Ratio = round((No.of.times/Matches.played) *100 , 2)) %>% \n",
    "  select(team1, Matches.played, No.of.times, Ratio)\n",
    "\n",
    "toss.match.win.ratio$Ratio = paste0(toss.match.win.ratio$Ratio, '%')\n",
    "\n",
    "toss.match.win.ratio"
   ]
  },
  {
   "cell_type": "code",
   "execution_count": 25,
   "id": "df97d751",
   "metadata": {},
   "outputs": [
    {
     "data": {
      "image/png": "[encoded data removed]",
      "text/plain": [
       "plot without title"
      ]
     },
     "metadata": {},
     "output_type": "display_data"
    }
   ],
   "source": [
    "ggplot(toss.match.win.ratio, aes(team1, Ratio, fill = team1)) + theme_classic()+\n",
    "  geom_bar(stat = 'identity') + geom_text(aes(label = Ratio, hjust = -0.01))+\n",
    "  theme(legend.position = 'none')+\n",
    "  labs(title = 'Graph on Toss Win to Match Win Ratio', y = 'Percentage',\n",
    "       caption = 'Data Source: Kaggle', tag = 'A5') + coord_flip()+\n",
    "  scale_fill_manual(values = c('Mumbai Indians' = 'steelblue',\n",
    "                               'Chennai Super Kings' = 'gold', 'Kolkata Knight Riders' = 'maroon4',\n",
    "                               'Sunrisers Hyderabad' = 'darkorange2', \n",
    "                               'Royal Challengers Bangalore'= 'brown2', 'Kings XI Punjab'='firebrick1',\n",
    "                               'Delhi Capitals' = 'dodgerblue3', 'Rajasthan Royals' = 'maroon1'))"
   ]
  },
  {
   "cell_type": "markdown",
   "id": "9e50e4a9",
   "metadata": {},
   "source": [
    "## Most Wins After Batting First"
   ]
  },
  {
   "cell_type": "code",
   "execution_count": 26,
   "id": "3e03953e",
   "metadata": {},
   "outputs": [
    {
     "data": {
      "text/html": [
       "<table>\n",
       "<thead><tr><th scope=col>winner</th><th scope=col>Wins</th></tr></thead>\n",
       "<tbody>\n",
       "\t<tr><td>Chennai Super Kings        </td><td>53                         </td></tr>\n",
       "\t<tr><td>Delhi Capitals             </td><td>34                         </td></tr>\n",
       "\t<tr><td>Kings XI Punjab            </td><td>40                         </td></tr>\n",
       "\t<tr><td>Kolkata Knight Riders      </td><td>41                         </td></tr>\n",
       "\t<tr><td>Mumbai Indians             </td><td>62                         </td></tr>\n",
       "\t<tr><td>Rajasthan Royals           </td><td>28                         </td></tr>\n",
       "\t<tr><td>Royal Challengers Bangalore</td><td>38                         </td></tr>\n",
       "\t<tr><td>Sunrisers Hyderabad        </td><td>52                         </td></tr>\n",
       "</tbody>\n",
       "</table>\n"
      ],
      "text/latex": [
       "\\begin{tabular}{r|ll}\n",
       " winner & Wins\\\\\n",
       "\\hline\n",
       "\t Chennai Super Kings         & 53                         \\\\\n",
       "\t Delhi Capitals              & 34                         \\\\\n",
       "\t Kings XI Punjab             & 40                         \\\\\n",
       "\t Kolkata Knight Riders       & 41                         \\\\\n",
       "\t Mumbai Indians              & 62                         \\\\\n",
       "\t Rajasthan Royals            & 28                         \\\\\n",
       "\t Royal Challengers Bangalore & 38                         \\\\\n",
       "\t Sunrisers Hyderabad         & 52                         \\\\\n",
       "\\end{tabular}\n"
      ],
      "text/markdown": [
       "\n",
       "| winner | Wins |\n",
       "|---|---|\n",
       "| Chennai Super Kings         | 53                          |\n",
       "| Delhi Capitals              | 34                          |\n",
       "| Kings XI Punjab             | 40                          |\n",
       "| Kolkata Knight Riders       | 41                          |\n",
       "| Mumbai Indians              | 62                          |\n",
       "| Rajasthan Royals            | 28                          |\n",
       "| Royal Challengers Bangalore | 38                          |\n",
       "| Sunrisers Hyderabad         | 52                          |\n",
       "\n"
      ],
      "text/plain": [
       "  winner                      Wins\n",
       "1 Chennai Super Kings         53  \n",
       "2 Delhi Capitals              34  \n",
       "3 Kings XI Punjab             40  \n",
       "4 Kolkata Knight Riders       41  \n",
       "5 Mumbai Indians              62  \n",
       "6 Rajasthan Royals            28  \n",
       "7 Royal Challengers Bangalore 38  \n",
       "8 Sunrisers Hyderabad         52  "
      ]
     },
     "metadata": {},
     "output_type": "display_data"
    }
   ],
   "source": [
    "bat.first.wins = ipl %>% group_by(winner) %>% \n",
    "  filter(result == 'runs') %>% \n",
    "  summarise(Wins = n())\n",
    "\n",
    "bat.first.wins = bat.first.wins[-c(3,5,8,10), ]\n",
    "\n",
    "bat.first.wins"
   ]
  },
  {
   "cell_type": "code",
   "execution_count": 28,
   "id": "bebb5008",
   "metadata": {},
   "outputs": [
    {
     "data": {
      "image/png": "[encoded data removed]",
      "text/plain": [
       "plot without title"
      ]
     },
     "metadata": {},
     "output_type": "display_data"
    }
   ],
   "source": [
    "ggplot(bat.first.wins, aes( reorder(winner, Wins), Wins, fill = winner)) +\n",
    "  theme_classic()+\n",
    "  geom_bar(stat = 'identity')+ geom_text(aes(label = Wins, hjust = -0.25))+\n",
    "  labs(title = 'Teams who batted first and won the most match',x = 'Teams', y = 'Wins',\n",
    "       caption = 'Data Source: Kaggle', tag = 'A6') + coord_flip()+\n",
    "  theme(legend.position = 'none')+\n",
    "  scale_fill_manual(values = c('Mumbai Indians' = 'steelblue',\n",
    "                               'Chennai Super Kings' = 'gold', 'Kolkata Knight Riders' = 'maroon4',\n",
    "                               'Sunrisers Hyderabad' = 'darkorange2', \n",
    "                               'Royal Challengers Bangalore'= 'brown2', 'Kings XI Punjab'='firebrick1',\n",
    "                               'Delhi Capitals' = 'dodgerblue3', 'Rajasthan Royals' = 'maroon1'))\n"
   ]
  },
  {
   "cell_type": "markdown",
   "id": "234f956c",
   "metadata": {},
   "source": [
    "## Most Wins Chasing the Target"
   ]
  },
  {
   "cell_type": "code",
   "execution_count": 29,
   "id": "22a34c3a",
   "metadata": {},
   "outputs": [
    {
     "data": {
      "text/html": [
       "<table>\n",
       "<thead><tr><th scope=col>winner</th><th scope=col>Wins</th></tr></thead>\n",
       "<tbody>\n",
       "\t<tr><td>Chennai Super Kings        </td><td>53                         </td></tr>\n",
       "\t<tr><td>Delhi Capitals             </td><td>50                         </td></tr>\n",
       "\t<tr><td>Kings XI Punjab            </td><td>45                         </td></tr>\n",
       "\t<tr><td>Kolkata Knight Riders      </td><td>57                         </td></tr>\n",
       "\t<tr><td>Mumbai Indians             </td><td>56                         </td></tr>\n",
       "\t<tr><td>Rajasthan Royals           </td><td>51                         </td></tr>\n",
       "\t<tr><td>Royal Challengers Bangalore</td><td>51                         </td></tr>\n",
       "\t<tr><td>Sunrisers Hyderabad        </td><td>42                         </td></tr>\n",
       "</tbody>\n",
       "</table>\n"
      ],
      "text/latex": [
       "\\begin{tabular}{r|ll}\n",
       " winner & Wins\\\\\n",
       "\\hline\n",
       "\t Chennai Super Kings         & 53                         \\\\\n",
       "\t Delhi Capitals              & 50                         \\\\\n",
       "\t Kings XI Punjab             & 45                         \\\\\n",
       "\t Kolkata Knight Riders       & 57                         \\\\\n",
       "\t Mumbai Indians              & 56                         \\\\\n",
       "\t Rajasthan Royals            & 51                         \\\\\n",
       "\t Royal Challengers Bangalore & 51                         \\\\\n",
       "\t Sunrisers Hyderabad         & 42                         \\\\\n",
       "\\end{tabular}\n"
      ],
      "text/markdown": [
       "\n",
       "| winner | Wins |\n",
       "|---|---|\n",
       "| Chennai Super Kings         | 53                          |\n",
       "| Delhi Capitals              | 50                          |\n",
       "| Kings XI Punjab             | 45                          |\n",
       "| Kolkata Knight Riders       | 57                          |\n",
       "| Mumbai Indians              | 56                          |\n",
       "| Rajasthan Royals            | 51                          |\n",
       "| Royal Challengers Bangalore | 51                          |\n",
       "| Sunrisers Hyderabad         | 42                          |\n",
       "\n"
      ],
      "text/plain": [
       "  winner                      Wins\n",
       "1 Chennai Super Kings         53  \n",
       "2 Delhi Capitals              50  \n",
       "3 Kings XI Punjab             45  \n",
       "4 Kolkata Knight Riders       57  \n",
       "5 Mumbai Indians              56  \n",
       "6 Rajasthan Royals            51  \n",
       "7 Royal Challengers Bangalore 51  \n",
       "8 Sunrisers Hyderabad         42  "
      ]
     },
     "metadata": {},
     "output_type": "display_data"
    }
   ],
   "source": [
    "bat.second.wins = ipl %>% group_by(winner) %>% \n",
    "  filter(result == 'wickets') %>% \n",
    "  summarise(Wins = n())\n",
    "\n",
    "bat.second.wins = bat.second.wins[ -c(3,5,8,10), ]\n",
    "\n",
    "bat.second.wins"
   ]
  },
  {
   "cell_type": "code",
   "execution_count": 30,
   "id": "1edd9519",
   "metadata": {},
   "outputs": [
    {
     "data": {
      "image/png": "[encoded data removed]",
      "text/plain": [
       "plot without title"
      ]
     },
     "metadata": {},
     "output_type": "display_data"
    }
   ],
   "source": [
    "ggplot(bat.second.wins, aes(reorder(winner, Wins), Wins, fill = winner)) + \n",
    "  theme_classic()+ theme(legend.position = 'none')+\n",
    "  geom_bar(stat = 'identity')+ geom_text(aes(label = Wins, hjust = -0.15))+\n",
    "  labs(title = 'Most Wins Chasing the Target', x = 'Teams', y = 'Wins',\n",
    "       caption = 'Data Source: Kaggle', tag = 'A7') + coord_flip()+\n",
    "  scale_fill_manual(values = c('Mumbai Indians' = 'steelblue',\n",
    "                               'Chennai Super Kings' = 'gold', 'Kolkata Knight Riders' = 'maroon4',\n",
    "                               'Sunrisers Hyderabad' = 'darkorange2', \n",
    "                               'Royal Challengers Bangalore'= 'brown2', 'Kings XI Punjab'='firebrick1',\n",
    "                               'Delhi Capitals' = 'dodgerblue4', 'Rajasthan Royals' = 'maroon1'))\n"
   ]
  },
  {
   "cell_type": "markdown",
   "id": "473d91fd",
   "metadata": {},
   "source": [
    "## Biggest Victory Margin by Runs"
   ]
  },
  {
   "cell_type": "code",
   "execution_count": 31,
   "id": "fe77b5d8",
   "metadata": {},
   "outputs": [
    {
     "data": {
      "text/html": [
       "<table>\n",
       "<thead><tr><th scope=col>date</th><th scope=col>city</th><th scope=col>team1</th><th scope=col>team2</th><th scope=col>winner</th><th scope=col>result_margin</th></tr></thead>\n",
       "<tbody>\n",
       "\t<tr><td>06-05-2017                 </td><td>Delhi                      </td><td>Delhi Capitals             </td><td>Mumbai Indians             </td><td>Mumbai Indians             </td><td>146                        </td></tr>\n",
       "\t<tr><td>14-05-2016                 </td><td>Bangalore                  </td><td>Royal Challengers Bangalore</td><td>Gujarat Lions              </td><td>Royal Challengers Bangalore</td><td>144                        </td></tr>\n",
       "\t<tr><td>18-04-2008                 </td><td>Bangalore                  </td><td>Royal Challengers Bangalore</td><td>Kolkata Knight Riders      </td><td>Kolkata Knight Riders      </td><td>140                        </td></tr>\n",
       "\t<tr><td>06-05-2015                 </td><td>Bangalore                  </td><td>Royal Challengers Bangalore</td><td>Kings XI Punjab            </td><td>Royal Challengers Bangalore</td><td>138                        </td></tr>\n",
       "\t<tr><td>23-04-2013                 </td><td>Bangalore                  </td><td>Royal Challengers Bangalore</td><td>Pune Warriors              </td><td>Royal Challengers Bangalore</td><td>130                        </td></tr>\n",
       "\t<tr><td>31-03-2019                 </td><td>Hyderabad                  </td><td>Sunrisers Hyderabad        </td><td>Royal Challengers Bangalore</td><td>Sunrisers Hyderabad        </td><td>118                        </td></tr>\n",
       "\t<tr><td>17-05-2011                 </td><td>Dharamsala                 </td><td>Kings XI Punjab            </td><td>Royal Challengers Bangalore</td><td>Kings XI Punjab            </td><td>111                        </td></tr>\n",
       "\t<tr><td>30-05-2008                 </td><td>Mumbai                     </td><td>Delhi Capitals             </td><td>Rajasthan Royals           </td><td>Rajasthan Royals           </td><td>105                        </td></tr>\n",
       "\t<tr><td>09-05-2018                 </td><td>Kolkata                    </td><td>Kolkata Knight Riders      </td><td>Mumbai Indians             </td><td>Mumbai Indians             </td><td>102                        </td></tr>\n",
       "\t<tr><td>17-03-2010                 </td><td>Delhi                      </td><td>Delhi Capitals             </td><td>Mumbai Indians             </td><td>Mumbai Indians             </td><td> 98                        </td></tr>\n",
       "</tbody>\n",
       "</table>\n"
      ],
      "text/latex": [
       "\\begin{tabular}{r|llllll}\n",
       " date & city & team1 & team2 & winner & result\\_margin\\\\\n",
       "\\hline\n",
       "\t 06-05-2017                  & Delhi                       & Delhi Capitals              & Mumbai Indians              & Mumbai Indians              & 146                        \\\\\n",
       "\t 14-05-2016                  & Bangalore                   & Royal Challengers Bangalore & Gujarat Lions               & Royal Challengers Bangalore & 144                        \\\\\n",
       "\t 18-04-2008                  & Bangalore                   & Royal Challengers Bangalore & Kolkata Knight Riders       & Kolkata Knight Riders       & 140                        \\\\\n",
       "\t 06-05-2015                  & Bangalore                   & Royal Challengers Bangalore & Kings XI Punjab             & Royal Challengers Bangalore & 138                        \\\\\n",
       "\t 23-04-2013                  & Bangalore                   & Royal Challengers Bangalore & Pune Warriors               & Royal Challengers Bangalore & 130                        \\\\\n",
       "\t 31-03-2019                  & Hyderabad                   & Sunrisers Hyderabad         & Royal Challengers Bangalore & Sunrisers Hyderabad         & 118                        \\\\\n",
       "\t 17-05-2011                  & Dharamsala                  & Kings XI Punjab             & Royal Challengers Bangalore & Kings XI Punjab             & 111                        \\\\\n",
       "\t 30-05-2008                  & Mumbai                      & Delhi Capitals              & Rajasthan Royals            & Rajasthan Royals            & 105                        \\\\\n",
       "\t 09-05-2018                  & Kolkata                     & Kolkata Knight Riders       & Mumbai Indians              & Mumbai Indians              & 102                        \\\\\n",
       "\t 17-03-2010                  & Delhi                       & Delhi Capitals              & Mumbai Indians              & Mumbai Indians              &  98                        \\\\\n",
       "\\end{tabular}\n"
      ],
      "text/markdown": [
       "\n",
       "| date | city | team1 | team2 | winner | result_margin |\n",
       "|---|---|---|---|---|---|\n",
       "| 06-05-2017                  | Delhi                       | Delhi Capitals              | Mumbai Indians              | Mumbai Indians              | 146                         |\n",
       "| 14-05-2016                  | Bangalore                   | Royal Challengers Bangalore | Gujarat Lions               | Royal Challengers Bangalore | 144                         |\n",
       "| 18-04-2008                  | Bangalore                   | Royal Challengers Bangalore | Kolkata Knight Riders       | Kolkata Knight Riders       | 140                         |\n",
       "| 06-05-2015                  | Bangalore                   | Royal Challengers Bangalore | Kings XI Punjab             | Royal Challengers Bangalore | 138                         |\n",
       "| 23-04-2013                  | Bangalore                   | Royal Challengers Bangalore | Pune Warriors               | Royal Challengers Bangalore | 130                         |\n",
       "| 31-03-2019                  | Hyderabad                   | Sunrisers Hyderabad         | Royal Challengers Bangalore | Sunrisers Hyderabad         | 118                         |\n",
       "| 17-05-2011                  | Dharamsala                  | Kings XI Punjab             | Royal Challengers Bangalore | Kings XI Punjab             | 111                         |\n",
       "| 30-05-2008                  | Mumbai                      | Delhi Capitals              | Rajasthan Royals            | Rajasthan Royals            | 105                         |\n",
       "| 09-05-2018                  | Kolkata                     | Kolkata Knight Riders       | Mumbai Indians              | Mumbai Indians              | 102                         |\n",
       "| 17-03-2010                  | Delhi                       | Delhi Capitals              | Mumbai Indians              | Mumbai Indians              |  98                         |\n",
       "\n"
      ],
      "text/plain": [
       "   date       city       team1                      \n",
       "1  06-05-2017 Delhi      Delhi Capitals             \n",
       "2  14-05-2016 Bangalore  Royal Challengers Bangalore\n",
       "3  18-04-2008 Bangalore  Royal Challengers Bangalore\n",
       "4  06-05-2015 Bangalore  Royal Challengers Bangalore\n",
       "5  23-04-2013 Bangalore  Royal Challengers Bangalore\n",
       "6  31-03-2019 Hyderabad  Sunrisers Hyderabad        \n",
       "7  17-05-2011 Dharamsala Kings XI Punjab            \n",
       "8  30-05-2008 Mumbai     Delhi Capitals             \n",
       "9  09-05-2018 Kolkata    Kolkata Knight Riders      \n",
       "10 17-03-2010 Delhi      Delhi Capitals             \n",
       "   team2                       winner                      result_margin\n",
       "1  Mumbai Indians              Mumbai Indians              146          \n",
       "2  Gujarat Lions               Royal Challengers Bangalore 144          \n",
       "3  Kolkata Knight Riders       Kolkata Knight Riders       140          \n",
       "4  Kings XI Punjab             Royal Challengers Bangalore 138          \n",
       "5  Pune Warriors               Royal Challengers Bangalore 130          \n",
       "6  Royal Challengers Bangalore Sunrisers Hyderabad         118          \n",
       "7  Royal Challengers Bangalore Kings XI Punjab             111          \n",
       "8  Rajasthan Royals            Rajasthan Royals            105          \n",
       "9  Mumbai Indians              Mumbai Indians              102          \n",
       "10 Mumbai Indians              Mumbai Indians               98          "
      ]
     },
     "metadata": {},
     "output_type": "display_data"
    }
   ],
   "source": [
    "runs.vic = ipl %>% group_by(winner) %>% \n",
    "  filter(result_margin >= 98) %>% arrange(desc(result_margin)) %>% \n",
    "  select(date, city, team1, team2, winner, result_margin)\n",
    "\n",
    "runs.vic = as.data.frame(runs.vic)\n",
    "\n",
    "runs.vic"
   ]
  },
  {
   "cell_type": "markdown",
   "id": "103b786a",
   "metadata": {},
   "source": [
    "## VENUE ANALYSIS"
   ]
  },
  {
   "cell_type": "code",
   "execution_count": 38,
   "id": "8a6d7809",
   "metadata": {},
   "outputs": [
    {
     "data": {
      "text/plain": [
       "\n",
       "     Abu Dhabi      Ahmedabad      Bangalore      Bengaluru   Bloemfontein \n",
       "            29             12             65             15              2 \n",
       "     Cape Town      Centurion     Chandigarh        Chennai        Cuttack \n",
       "             7             12             56             57              7 \n",
       "         Delhi     Dharamsala          Dubai         Durban    East London \n",
       "            74              9             26             15              3 \n",
       "     Hyderabad         Indore         Jaipur   Johannesburg         Kanpur \n",
       "            64              9             47              8              4 \n",
       "     Kimberley          Kochi        Kolkata         Mumbai         Nagpur \n",
       "             3              5             77            101              3 \n",
       "Port Elizabeth           Pune         Raipur         Rajkot         Ranchi \n",
       "             7             38              6             10              7 \n",
       "       Sharjah  Visakhapatnam \n",
       "            12             13 "
      ]
     },
     "metadata": {},
     "output_type": "display_data"
    }
   ],
   "source": [
    "table(ipl$city)"
   ]
  },
  {
   "cell_type": "markdown",
   "id": "7e932210",
   "metadata": {},
   "source": [
    "### Replacing Bengaluru with Bangalore: \n"
   ]
  },
  {
   "cell_type": "code",
   "execution_count": 39,
   "id": "d9477080",
   "metadata": {},
   "outputs": [
    {
     "data": {
      "text/plain": [
       "\n",
       "     Abu Dhabi      Ahmedabad      Bangalore      Bengaluru   Bloemfontein \n",
       "            29             12             80              0              2 \n",
       "     Cape Town      Centurion     Chandigarh        Chennai        Cuttack \n",
       "             7             12             56             57              7 \n",
       "         Delhi     Dharamsala          Dubai         Durban    East London \n",
       "            74              9             26             15              3 \n",
       "     Hyderabad         Indore         Jaipur   Johannesburg         Kanpur \n",
       "            64              9             47              8              4 \n",
       "     Kimberley          Kochi        Kolkata         Mumbai         Nagpur \n",
       "             3              5             77            101              3 \n",
       "Port Elizabeth           Pune         Raipur         Rajkot         Ranchi \n",
       "             7             38              6             10              7 \n",
       "       Sharjah  Visakhapatnam \n",
       "            12             13 "
      ]
     },
     "metadata": {},
     "output_type": "display_data"
    }
   ],
   "source": [
    "ipl[ipl == 'Bengaluru'] = 'Bangalore'\n",
    "\n",
    "table(ipl$city)"
   ]
  },
  {
   "cell_type": "markdown",
   "id": "352e5887",
   "metadata": {},
   "source": [
    "## Cities which hosted maximum matches"
   ]
  },
  {
   "cell_type": "code",
   "execution_count": 40,
   "id": "8839c1a5",
   "metadata": {},
   "outputs": [
    {
     "data": {
      "text/html": [
       "<table>\n",
       "<thead><tr><th scope=col>city</th><th scope=col>Matches</th></tr></thead>\n",
       "<tbody>\n",
       "\t<tr><td>Mumbai    </td><td>101       </td></tr>\n",
       "\t<tr><td>Bangalore </td><td> 80       </td></tr>\n",
       "\t<tr><td>Kolkata   </td><td> 77       </td></tr>\n",
       "\t<tr><td>Delhi     </td><td> 74       </td></tr>\n",
       "\t<tr><td>Hyderabad </td><td> 64       </td></tr>\n",
       "\t<tr><td>Chennai   </td><td> 57       </td></tr>\n",
       "\t<tr><td>Chandigarh</td><td> 56       </td></tr>\n",
       "\t<tr><td>Jaipur    </td><td> 47       </td></tr>\n",
       "\t<tr><td>Pune      </td><td> 38       </td></tr>\n",
       "\t<tr><td>Abu Dhabi </td><td> 29       </td></tr>\n",
       "</tbody>\n",
       "</table>\n"
      ],
      "text/latex": [
       "\\begin{tabular}{r|ll}\n",
       " city & Matches\\\\\n",
       "\\hline\n",
       "\t Mumbai     & 101       \\\\\n",
       "\t Bangalore  &  80       \\\\\n",
       "\t Kolkata    &  77       \\\\\n",
       "\t Delhi      &  74       \\\\\n",
       "\t Hyderabad  &  64       \\\\\n",
       "\t Chennai    &  57       \\\\\n",
       "\t Chandigarh &  56       \\\\\n",
       "\t Jaipur     &  47       \\\\\n",
       "\t Pune       &  38       \\\\\n",
       "\t Abu Dhabi  &  29       \\\\\n",
       "\\end{tabular}\n"
      ],
      "text/markdown": [
       "\n",
       "| city | Matches |\n",
       "|---|---|\n",
       "| Mumbai     | 101        |\n",
       "| Bangalore  |  80        |\n",
       "| Kolkata    |  77        |\n",
       "| Delhi      |  74        |\n",
       "| Hyderabad  |  64        |\n",
       "| Chennai    |  57        |\n",
       "| Chandigarh |  56        |\n",
       "| Jaipur     |  47        |\n",
       "| Pune       |  38        |\n",
       "| Abu Dhabi  |  29        |\n",
       "\n"
      ],
      "text/plain": [
       "   city       Matches\n",
       "1  Mumbai     101    \n",
       "2  Bangalore   80    \n",
       "3  Kolkata     77    \n",
       "4  Delhi       74    \n",
       "5  Hyderabad   64    \n",
       "6  Chennai     57    \n",
       "7  Chandigarh  56    \n",
       "8  Jaipur      47    \n",
       "9  Pune        38    \n",
       "10 Abu Dhabi   29    "
      ]
     },
     "metadata": {},
     "output_type": "display_data"
    }
   ],
   "source": [
    "top.city =  ipl %>% group_by(city) %>% \n",
    "  summarise(Matches = n()) %>% arrange(desc(Matches))\n",
    "\n",
    "top.city = top.city[1:10, ]\n",
    "\n",
    "top.city"
   ]
  },
  {
   "cell_type": "code",
   "execution_count": 41,
   "id": "4efd7de8",
   "metadata": {},
   "outputs": [
    {
     "data": {
      "image/png": "[encoded data removed]",
      "text/plain": [
       "plot without title"
      ]
     },
     "metadata": {},
     "output_type": "display_data"
    }
   ],
   "source": [
    "ggplot(top.city, aes(reorder(city, -Matches), Matches)) + theme_classic()+\n",
    "  geom_bar(stat = 'identity', fill = 'darkslategray4', col = 'black')+ \n",
    "  theme(legend.position = 'none') +\n",
    "  geom_text(aes(label = Matches, vjust = -0.5))+\n",
    "  labs(title = 'Number of Matches Hosted in Different Cities',\n",
    "       x = 'Name of the City', tag = 'A8')"
   ]
  },
  {
   "cell_type": "markdown",
   "id": "22915289",
   "metadata": {},
   "source": [
    "## Stadiums that hosted maximum matches"
   ]
  },
  {
   "cell_type": "code",
   "execution_count": 42,
   "id": "f16c73f3",
   "metadata": {},
   "outputs": [
    {
     "data": {
      "text/plain": [
       "\n",
       "                                    Barabati Stadium \n",
       "                                                   7 \n",
       "                                   Brabourne Stadium \n",
       "                                                  11 \n",
       "                                        Buffalo Park \n",
       "                                                   3 \n",
       "                               De Beers Diamond Oval \n",
       "                                                   3 \n",
       "                          Dr DY Patil Sports Academy \n",
       "                                                  17 \n",
       " Dr. Y.S. Rajasekhara Reddy ACA-VDCA Cricket Stadium \n",
       "                                                  13 \n",
       "                 Dubai International Cricket Stadium \n",
       "                                                  33 \n",
       "                                        Eden Gardens \n",
       "                                                  77 \n",
       "                                    Feroz Shah Kotla \n",
       "                                                  74 \n",
       "                                          Green Park \n",
       "                                                   4 \n",
       "        Himachal Pradesh Cricket Association Stadium \n",
       "                                                   9 \n",
       "                              Holkar Cricket Stadium \n",
       "                                                   9 \n",
       "                  JSCA International Stadium Complex \n",
       "                                                   7 \n",
       "                                           Kingsmead \n",
       "                                                  15 \n",
       "                               M Chinnaswamy Stadium \n",
       "                                                  80 \n",
       "                     MA Chidambaram Stadium, Chepauk \n",
       "                                                  57 \n",
       "             Maharashtra Cricket Association Stadium \n",
       "                                                  21 \n",
       "                                       Nehru Stadium \n",
       "                                                   5 \n",
       "                               New Wanderers Stadium \n",
       "                                                   8 \n",
       "                                            Newlands \n",
       "                                                   7 \n",
       "                                     OUTsurance Oval \n",
       "                                                   2 \n",
       "Punjab Cricket Association IS Bindra Stadium, Mohali \n",
       "                                                  21 \n",
       "          Punjab Cricket Association Stadium, Mohali \n",
       "                                                  35 \n",
       "           Rajiv Gandhi International Stadium, Uppal \n",
       "                                                  64 \n",
       "                        Sardar Patel Stadium, Motera \n",
       "                                                  12 \n",
       "              Saurashtra Cricket Association Stadium \n",
       "                                                  10 \n",
       "                              Sawai Mansingh Stadium \n",
       "                                                  47 \n",
       "    Shaheed Veer Narayan Singh International Stadium \n",
       "                                                   6 \n",
       "                             Sharjah Cricket Stadium \n",
       "                                                  18 \n",
       "                                Sheikh Zayed Stadium \n",
       "                                                  29 \n",
       "                                    St George's Park \n",
       "                                                   7 \n",
       "                          Subrata Roy Sahara Stadium \n",
       "                                                  17 \n",
       "                                     SuperSport Park \n",
       "                                                  12 \n",
       "        Vidarbha Cricket Association Stadium, Jamtha \n",
       "                                                   3 \n",
       "                                    Wankhede Stadium \n",
       "                                                  73 "
      ]
     },
     "metadata": {},
     "output_type": "display_data"
    }
   ],
   "source": [
    "table(ipl$venue)"
   ]
  },
  {
   "cell_type": "markdown",
   "id": "f92eddfa",
   "metadata": {},
   "source": [
    "### Few years ago PCA Stadium, Mohali was renamed to PCA IS Bindra Stadium, Mohali. So I have unified them as one."
   ]
  },
  {
   "cell_type": "code",
   "execution_count": 43,
   "id": "5e9233bb",
   "metadata": {},
   "outputs": [],
   "source": [
    "ipl[ipl == 'Punjab Cricket Association IS Bindra Stadium, Mohali'] = \n",
    "  'Punjab Cricket Association Stadium, Mohali'"
   ]
  },
  {
   "cell_type": "code",
   "execution_count": 44,
   "id": "2a447b88",
   "metadata": {},
   "outputs": [
    {
     "data": {
      "text/plain": [
       "\n",
       "                                    Barabati Stadium \n",
       "                                                   7 \n",
       "                                   Brabourne Stadium \n",
       "                                                  11 \n",
       "                                        Buffalo Park \n",
       "                                                   3 \n",
       "                               De Beers Diamond Oval \n",
       "                                                   3 \n",
       "                          Dr DY Patil Sports Academy \n",
       "                                                  17 \n",
       " Dr. Y.S. Rajasekhara Reddy ACA-VDCA Cricket Stadium \n",
       "                                                  13 \n",
       "                 Dubai International Cricket Stadium \n",
       "                                                  33 \n",
       "                                        Eden Gardens \n",
       "                                                  77 \n",
       "                                    Feroz Shah Kotla \n",
       "                                                  74 \n",
       "                                          Green Park \n",
       "                                                   4 \n",
       "        Himachal Pradesh Cricket Association Stadium \n",
       "                                                   9 \n",
       "                              Holkar Cricket Stadium \n",
       "                                                   9 \n",
       "                  JSCA International Stadium Complex \n",
       "                                                   7 \n",
       "                                           Kingsmead \n",
       "                                                  15 \n",
       "                               M Chinnaswamy Stadium \n",
       "                                                  80 \n",
       "                     MA Chidambaram Stadium, Chepauk \n",
       "                                                  57 \n",
       "             Maharashtra Cricket Association Stadium \n",
       "                                                  21 \n",
       "                                       Nehru Stadium \n",
       "                                                   5 \n",
       "                               New Wanderers Stadium \n",
       "                                                   8 \n",
       "                                            Newlands \n",
       "                                                   7 \n",
       "                                     OUTsurance Oval \n",
       "                                                   2 \n",
       "Punjab Cricket Association IS Bindra Stadium, Mohali \n",
       "                                                   0 \n",
       "          Punjab Cricket Association Stadium, Mohali \n",
       "                                                  56 \n",
       "           Rajiv Gandhi International Stadium, Uppal \n",
       "                                                  64 \n",
       "                        Sardar Patel Stadium, Motera \n",
       "                                                  12 \n",
       "              Saurashtra Cricket Association Stadium \n",
       "                                                  10 \n",
       "                              Sawai Mansingh Stadium \n",
       "                                                  47 \n",
       "    Shaheed Veer Narayan Singh International Stadium \n",
       "                                                   6 \n",
       "                             Sharjah Cricket Stadium \n",
       "                                                  18 \n",
       "                                Sheikh Zayed Stadium \n",
       "                                                  29 \n",
       "                                    St George's Park \n",
       "                                                   7 \n",
       "                          Subrata Roy Sahara Stadium \n",
       "                                                  17 \n",
       "                                     SuperSport Park \n",
       "                                                  12 \n",
       "        Vidarbha Cricket Association Stadium, Jamtha \n",
       "                                                   3 \n",
       "                                    Wankhede Stadium \n",
       "                                                  73 "
      ]
     },
     "metadata": {},
     "output_type": "display_data"
    }
   ],
   "source": [
    "table(ipl$venue)"
   ]
  },
  {
   "cell_type": "code",
   "execution_count": 45,
   "id": "2ffcce76",
   "metadata": {},
   "outputs": [
    {
     "data": {
      "text/html": [
       "<table>\n",
       "<thead><tr><th scope=col>venue</th><th scope=col>Matches.played</th></tr></thead>\n",
       "<tbody>\n",
       "\t<tr><td>M Chinnaswamy Stadium                     </td><td>80                                        </td></tr>\n",
       "\t<tr><td>Eden Gardens                              </td><td>77                                        </td></tr>\n",
       "\t<tr><td>Feroz Shah Kotla                          </td><td>74                                        </td></tr>\n",
       "\t<tr><td>Wankhede Stadium                          </td><td>73                                        </td></tr>\n",
       "\t<tr><td>Rajiv Gandhi International Stadium, Uppal </td><td>64                                        </td></tr>\n",
       "\t<tr><td>MA Chidambaram Stadium, Chepauk           </td><td>57                                        </td></tr>\n",
       "\t<tr><td>Punjab Cricket Association Stadium, Mohali</td><td>56                                        </td></tr>\n",
       "\t<tr><td>Sawai Mansingh Stadium                    </td><td>47                                        </td></tr>\n",
       "\t<tr><td>Dubai International Cricket Stadium       </td><td>33                                        </td></tr>\n",
       "\t<tr><td>Sheikh Zayed Stadium                      </td><td>29                                        </td></tr>\n",
       "</tbody>\n",
       "</table>\n"
      ],
      "text/latex": [
       "\\begin{tabular}{r|ll}\n",
       " venue & Matches.played\\\\\n",
       "\\hline\n",
       "\t M Chinnaswamy Stadium                      & 80                                        \\\\\n",
       "\t Eden Gardens                               & 77                                        \\\\\n",
       "\t Feroz Shah Kotla                           & 74                                        \\\\\n",
       "\t Wankhede Stadium                           & 73                                        \\\\\n",
       "\t Rajiv Gandhi International Stadium, Uppal  & 64                                        \\\\\n",
       "\t MA Chidambaram Stadium, Chepauk            & 57                                        \\\\\n",
       "\t Punjab Cricket Association Stadium, Mohali & 56                                        \\\\\n",
       "\t Sawai Mansingh Stadium                     & 47                                        \\\\\n",
       "\t Dubai International Cricket Stadium        & 33                                        \\\\\n",
       "\t Sheikh Zayed Stadium                       & 29                                        \\\\\n",
       "\\end{tabular}\n"
      ],
      "text/markdown": [
       "\n",
       "| venue | Matches.played |\n",
       "|---|---|\n",
       "| M Chinnaswamy Stadium                      | 80                                         |\n",
       "| Eden Gardens                               | 77                                         |\n",
       "| Feroz Shah Kotla                           | 74                                         |\n",
       "| Wankhede Stadium                           | 73                                         |\n",
       "| Rajiv Gandhi International Stadium, Uppal  | 64                                         |\n",
       "| MA Chidambaram Stadium, Chepauk            | 57                                         |\n",
       "| Punjab Cricket Association Stadium, Mohali | 56                                         |\n",
       "| Sawai Mansingh Stadium                     | 47                                         |\n",
       "| Dubai International Cricket Stadium        | 33                                         |\n",
       "| Sheikh Zayed Stadium                       | 29                                         |\n",
       "\n"
      ],
      "text/plain": [
       "   venue                                      Matches.played\n",
       "1  M Chinnaswamy Stadium                      80            \n",
       "2  Eden Gardens                               77            \n",
       "3  Feroz Shah Kotla                           74            \n",
       "4  Wankhede Stadium                           73            \n",
       "5  Rajiv Gandhi International Stadium, Uppal  64            \n",
       "6  MA Chidambaram Stadium, Chepauk            57            \n",
       "7  Punjab Cricket Association Stadium, Mohali 56            \n",
       "8  Sawai Mansingh Stadium                     47            \n",
       "9  Dubai International Cricket Stadium        33            \n",
       "10 Sheikh Zayed Stadium                       29            "
      ]
     },
     "metadata": {},
     "output_type": "display_data"
    }
   ],
   "source": [
    "top.stadiums = ipl %>% group_by(venue) %>% \n",
    "  summarise(Matches.played = n()) %>% arrange(desc(Matches.played))\n",
    "\n",
    "top.stadiums = top.stadiums[1:10, ]\n",
    "\n",
    "top.stadiums"
   ]
  },
  {
   "cell_type": "code",
   "execution_count": 46,
   "id": "7d076e79",
   "metadata": {},
   "outputs": [
    {
     "data": {
      "image/png": "[encoded data removed]",
      "text/plain": [
       "plot without title"
      ]
     },
     "metadata": {},
     "output_type": "display_data"
    }
   ],
   "source": [
    "ggplot(top.stadiums, aes(reorder(venue, Matches.played),Matches.played)) + \n",
    "  theme_classic()+\n",
    "  geom_bar(stat = 'identity', fill = 'darkslategray4', col = 'black') +\n",
    "  coord_flip() + theme(legend.position = 'none')+\n",
    "  geom_text(aes(label = Matches.played, hjust = -0.5))+\n",
    "  labs(title = 'Number of Matches Hosted in Different Stadiums', y = 'Matches',\n",
    "       x = 'Name of Stadium',  tag = 'A9')\n"
   ]
  },
  {
   "cell_type": "markdown",
   "id": "b49c0fb7",
   "metadata": {},
   "source": [
    "## Toss Ratio: "
   ]
  },
  {
   "cell_type": "code",
   "execution_count": 47,
   "id": "a39d074b",
   "metadata": {},
   "outputs": [
    {
     "data": {
      "text/html": [
       "<table>\n",
       "<thead><tr><th scope=col>toss_decision</th><th scope=col>Ratio</th></tr></thead>\n",
       "<tbody>\n",
       "\t<tr><td>bat  </td><td>320  </td></tr>\n",
       "\t<tr><td>field</td><td>496  </td></tr>\n",
       "</tbody>\n",
       "</table>\n"
      ],
      "text/latex": [
       "\\begin{tabular}{r|ll}\n",
       " toss\\_decision & Ratio\\\\\n",
       "\\hline\n",
       "\t bat   & 320  \\\\\n",
       "\t field & 496  \\\\\n",
       "\\end{tabular}\n"
      ],
      "text/markdown": [
       "\n",
       "| toss_decision | Ratio |\n",
       "|---|---|\n",
       "| bat   | 320   |\n",
       "| field | 496   |\n",
       "\n"
      ],
      "text/plain": [
       "  toss_decision Ratio\n",
       "1 bat           320  \n",
       "2 field         496  "
      ]
     },
     "metadata": {},
     "output_type": "display_data"
    }
   ],
   "source": [
    "toss.ratio = ipl %>% group_by(toss_decision) %>% \n",
    "  summarise(Ratio = n()) \n",
    "\n",
    "toss.ratio"
   ]
  },
  {
   "cell_type": "code",
   "execution_count": 48,
   "id": "dbe6469c",
   "metadata": {},
   "outputs": [
    {
     "data": {
      "image/png": "[encoded data removed]",
      "text/plain": [
       "plot without title"
      ]
     },
     "metadata": {},
     "output_type": "display_data"
    }
   ],
   "source": [
    "ggplot(toss.ratio, aes(toss_decision, Ratio, fill = toss_decision ))+ theme_classic()+\n",
    "  geom_bar(stat = 'identity')+ geom_text(aes(label = Ratio, vjust = -0.5))+\n",
    "  labs(title = 'Decision After Winning the Toss', tag = 'A10',\n",
    "       x = 'Toss Decision', y = 'No of Times', caption = 'Data Source: Kaggle')\n"
   ]
  },
  {
   "cell_type": "markdown",
   "id": "68961f2b",
   "metadata": {},
   "source": [
    "## Teams Batting First and Winning by More Than 100 Runs"
   ]
  },
  {
   "cell_type": "code",
   "execution_count": 49,
   "id": "518f30f8",
   "metadata": {},
   "outputs": [
    {
     "data": {
      "text/html": [
       "<table>\n",
       "<thead><tr><th scope=col>date</th><th scope=col>city</th><th scope=col>team1</th><th scope=col>team2</th><th scope=col>winner</th><th scope=col>result_margin</th></tr></thead>\n",
       "<tbody>\n",
       "\t<tr><td>06-05-2017                 </td><td>Delhi                      </td><td>Delhi Daredevils           </td><td>Mumbai Indians             </td><td>Mumbai Indians             </td><td>146                        </td></tr>\n",
       "\t<tr><td>14-05-2016                 </td><td>Bangalore                  </td><td>Royal Challengers Bangalore</td><td>Gujarat Lions              </td><td>Royal Challengers Bangalore</td><td>144                        </td></tr>\n",
       "\t<tr><td>18-04-2008                 </td><td>Bangalore                  </td><td>Royal Challengers Bangalore</td><td>Kolkata Knight Riders      </td><td>Kolkata Knight Riders      </td><td>140                        </td></tr>\n",
       "\t<tr><td>06-05-2015                 </td><td>Bangalore                  </td><td>Royal Challengers Bangalore</td><td>Kings XI Punjab            </td><td>Royal Challengers Bangalore</td><td>138                        </td></tr>\n",
       "\t<tr><td>23-04-2013                 </td><td>Bangalore                  </td><td>Royal Challengers Bangalore</td><td>Pune Warriors              </td><td>Royal Challengers Bangalore</td><td>130                        </td></tr>\n",
       "\t<tr><td>31-03-2019                 </td><td>Hyderabad                  </td><td>Sunrisers Hyderabad        </td><td>Royal Challengers Bangalore</td><td>Sunrisers Hyderabad        </td><td>118                        </td></tr>\n",
       "\t<tr><td>17-05-2011                 </td><td>Dharamsala                 </td><td>Kings XI Punjab            </td><td>Royal Challengers Bangalore</td><td>Kings XI Punjab            </td><td>111                        </td></tr>\n",
       "\t<tr><td>30-05-2008                 </td><td>Mumbai                     </td><td>Delhi Daredevils           </td><td>Rajasthan Royals           </td><td>Rajasthan Royals           </td><td>105                        </td></tr>\n",
       "\t<tr><td>09-05-2018                 </td><td>Kolkata                    </td><td>Kolkata Knight Riders      </td><td>Mumbai Indians             </td><td>Mumbai Indians             </td><td>102                        </td></tr>\n",
       "</tbody>\n",
       "</table>\n"
      ],
      "text/latex": [
       "\\begin{tabular}{r|llllll}\n",
       " date & city & team1 & team2 & winner & result\\_margin\\\\\n",
       "\\hline\n",
       "\t 06-05-2017                  & Delhi                       & Delhi Daredevils            & Mumbai Indians              & Mumbai Indians              & 146                        \\\\\n",
       "\t 14-05-2016                  & Bangalore                   & Royal Challengers Bangalore & Gujarat Lions               & Royal Challengers Bangalore & 144                        \\\\\n",
       "\t 18-04-2008                  & Bangalore                   & Royal Challengers Bangalore & Kolkata Knight Riders       & Kolkata Knight Riders       & 140                        \\\\\n",
       "\t 06-05-2015                  & Bangalore                   & Royal Challengers Bangalore & Kings XI Punjab             & Royal Challengers Bangalore & 138                        \\\\\n",
       "\t 23-04-2013                  & Bangalore                   & Royal Challengers Bangalore & Pune Warriors               & Royal Challengers Bangalore & 130                        \\\\\n",
       "\t 31-03-2019                  & Hyderabad                   & Sunrisers Hyderabad         & Royal Challengers Bangalore & Sunrisers Hyderabad         & 118                        \\\\\n",
       "\t 17-05-2011                  & Dharamsala                  & Kings XI Punjab             & Royal Challengers Bangalore & Kings XI Punjab             & 111                        \\\\\n",
       "\t 30-05-2008                  & Mumbai                      & Delhi Daredevils            & Rajasthan Royals            & Rajasthan Royals            & 105                        \\\\\n",
       "\t 09-05-2018                  & Kolkata                     & Kolkata Knight Riders       & Mumbai Indians              & Mumbai Indians              & 102                        \\\\\n",
       "\\end{tabular}\n"
      ],
      "text/markdown": [
       "\n",
       "| date | city | team1 | team2 | winner | result_margin |\n",
       "|---|---|---|---|---|---|\n",
       "| 06-05-2017                  | Delhi                       | Delhi Daredevils            | Mumbai Indians              | Mumbai Indians              | 146                         |\n",
       "| 14-05-2016                  | Bangalore                   | Royal Challengers Bangalore | Gujarat Lions               | Royal Challengers Bangalore | 144                         |\n",
       "| 18-04-2008                  | Bangalore                   | Royal Challengers Bangalore | Kolkata Knight Riders       | Kolkata Knight Riders       | 140                         |\n",
       "| 06-05-2015                  | Bangalore                   | Royal Challengers Bangalore | Kings XI Punjab             | Royal Challengers Bangalore | 138                         |\n",
       "| 23-04-2013                  | Bangalore                   | Royal Challengers Bangalore | Pune Warriors               | Royal Challengers Bangalore | 130                         |\n",
       "| 31-03-2019                  | Hyderabad                   | Sunrisers Hyderabad         | Royal Challengers Bangalore | Sunrisers Hyderabad         | 118                         |\n",
       "| 17-05-2011                  | Dharamsala                  | Kings XI Punjab             | Royal Challengers Bangalore | Kings XI Punjab             | 111                         |\n",
       "| 30-05-2008                  | Mumbai                      | Delhi Daredevils            | Rajasthan Royals            | Rajasthan Royals            | 105                         |\n",
       "| 09-05-2018                  | Kolkata                     | Kolkata Knight Riders       | Mumbai Indians              | Mumbai Indians              | 102                         |\n",
       "\n"
      ],
      "text/plain": [
       "  date       city       team1                       team2                      \n",
       "1 06-05-2017 Delhi      Delhi Daredevils            Mumbai Indians             \n",
       "2 14-05-2016 Bangalore  Royal Challengers Bangalore Gujarat Lions              \n",
       "3 18-04-2008 Bangalore  Royal Challengers Bangalore Kolkata Knight Riders      \n",
       "4 06-05-2015 Bangalore  Royal Challengers Bangalore Kings XI Punjab            \n",
       "5 23-04-2013 Bangalore  Royal Challengers Bangalore Pune Warriors              \n",
       "6 31-03-2019 Hyderabad  Sunrisers Hyderabad         Royal Challengers Bangalore\n",
       "7 17-05-2011 Dharamsala Kings XI Punjab             Royal Challengers Bangalore\n",
       "8 30-05-2008 Mumbai     Delhi Daredevils            Rajasthan Royals           \n",
       "9 09-05-2018 Kolkata    Kolkata Knight Riders       Mumbai Indians             \n",
       "  winner                      result_margin\n",
       "1 Mumbai Indians              146          \n",
       "2 Royal Challengers Bangalore 144          \n",
       "3 Kolkata Knight Riders       140          \n",
       "4 Royal Challengers Bangalore 138          \n",
       "5 Royal Challengers Bangalore 130          \n",
       "6 Sunrisers Hyderabad         118          \n",
       "7 Kings XI Punjab             111          \n",
       "8 Rajasthan Royals            105          \n",
       "9 Mumbai Indians              102          "
      ]
     },
     "metadata": {},
     "output_type": "display_data"
    }
   ],
   "source": [
    "runs.vic = ipl %>% group_by(winner) %>% \n",
    "  filter(result_margin >= 100) %>% arrange(desc(result_margin)) %>% \n",
    "  select(date, city, team1, team2, winner, result_margin)\n",
    "\n",
    "runs.vic = as.data.frame(runs.vic)\n",
    "\n",
    "runs.vic"
   ]
  },
  {
   "cell_type": "markdown",
   "id": "2dedd8ab",
   "metadata": {},
   "source": [
    "## Teams Batting Second and Winning by 10 Wickets"
   ]
  },
  {
   "cell_type": "code",
   "execution_count": 51,
   "id": "aa5ee2b2",
   "metadata": {},
   "outputs": [
    {
     "data": {
      "text/html": [
       "<table>\n",
       "<thead><tr><th scope=col>date</th><th scope=col>city</th><th scope=col>team1</th><th scope=col>team2</th><th scope=col>winner</th><th scope=col>result</th><th scope=col>result_margin</th></tr></thead>\n",
       "<tbody>\n",
       "\t<tr><td>27-04-2008                 </td><td>Mumbai                     </td><td>Mumbai Indians             </td><td>Deccan Chargers            </td><td>Deccan Chargers            </td><td>wickets                    </td><td>10                         </td></tr>\n",
       "\t<tr><td>19-04-2009                 </td><td>Cape Town                  </td><td>Delhi Daredevils           </td><td>Kings XI Punjab            </td><td>Delhi Daredevils           </td><td>wickets                    </td><td>10                         </td></tr>\n",
       "\t<tr><td>18-03-2010                 </td><td>Bangalore                  </td><td>Royal Challengers Bangalore</td><td>Rajasthan Royals           </td><td>Royal Challengers Bangalore</td><td>wickets                    </td><td>10                         </td></tr>\n",
       "\t<tr><td>20-05-2011                 </td><td>Mumbai                     </td><td>Mumbai Indians             </td><td>Rajasthan Royals           </td><td>Rajasthan Royals           </td><td>wickets                    </td><td>10                         </td></tr>\n",
       "\t<tr><td>20-05-2012                 </td><td>Jaipur                     </td><td>Rajasthan Royals           </td><td>Mumbai Indians             </td><td>Mumbai Indians             </td><td>wickets                    </td><td>10                         </td></tr>\n",
       "\t<tr><td>10-04-2013                 </td><td>Chandigarh                 </td><td>Kings XI Punjab            </td><td>Chennai Super Kings        </td><td>Chennai Super Kings        </td><td>wickets                    </td><td>10                         </td></tr>\n",
       "\t<tr><td>26-04-2015                 </td><td>Delhi                      </td><td>Delhi Daredevils           </td><td>Royal Challengers Bangalore</td><td>Royal Challengers Bangalore</td><td>wickets                    </td><td>10                         </td></tr>\n",
       "\t<tr><td>21-04-2016                 </td><td>Rajkot                     </td><td>Gujarat Lions              </td><td>Sunrisers Hyderabad        </td><td>Sunrisers Hyderabad        </td><td>wickets                    </td><td>10                         </td></tr>\n",
       "\t<tr><td>07-04-2017                 </td><td>Rajkot                     </td><td>Gujarat Lions              </td><td>Kolkata Knight Riders      </td><td>Kolkata Knight Riders      </td><td>wickets                    </td><td>10                         </td></tr>\n",
       "\t<tr><td>30-04-2017                 </td><td>Chandigarh                 </td><td>Kings XI Punjab            </td><td>Delhi Daredevils           </td><td>Kings XI Punjab            </td><td>wickets                    </td><td>10                         </td></tr>\n",
       "\t<tr><td>14-05-2018                 </td><td>Indore                     </td><td>Kings XI Punjab            </td><td>Royal Challengers Bangalore</td><td>Royal Challengers Bangalore</td><td>wickets                    </td><td>10                         </td></tr>\n",
       "\t<tr><td>03-11-2020                 </td><td>Sharjah                    </td><td>Mumbai Indians             </td><td>Sunrisers Hyderabad        </td><td>Sunrisers Hyderabad        </td><td>wickets                    </td><td>10                         </td></tr>\n",
       "\t<tr><td>04-10-2020                 </td><td>Dubai                      </td><td>Kings XI Punjab            </td><td>Chennai Super Kings        </td><td>Chennai Super Kings        </td><td>wickets                    </td><td>10                         </td></tr>\n",
       "\t<tr><td>23-10-2020                 </td><td>Sharjah                    </td><td>Chennai Super Kings        </td><td>Mumbai Indians             </td><td>Mumbai Indians             </td><td>wickets                    </td><td>10                         </td></tr>\n",
       "</tbody>\n",
       "</table>\n"
      ],
      "text/latex": [
       "\\begin{tabular}{r|lllllll}\n",
       " date & city & team1 & team2 & winner & result & result\\_margin\\\\\n",
       "\\hline\n",
       "\t 27-04-2008                  & Mumbai                      & Mumbai Indians              & Deccan Chargers             & Deccan Chargers             & wickets                     & 10                         \\\\\n",
       "\t 19-04-2009                  & Cape Town                   & Delhi Daredevils            & Kings XI Punjab             & Delhi Daredevils            & wickets                     & 10                         \\\\\n",
       "\t 18-03-2010                  & Bangalore                   & Royal Challengers Bangalore & Rajasthan Royals            & Royal Challengers Bangalore & wickets                     & 10                         \\\\\n",
       "\t 20-05-2011                  & Mumbai                      & Mumbai Indians              & Rajasthan Royals            & Rajasthan Royals            & wickets                     & 10                         \\\\\n",
       "\t 20-05-2012                  & Jaipur                      & Rajasthan Royals            & Mumbai Indians              & Mumbai Indians              & wickets                     & 10                         \\\\\n",
       "\t 10-04-2013                  & Chandigarh                  & Kings XI Punjab             & Chennai Super Kings         & Chennai Super Kings         & wickets                     & 10                         \\\\\n",
       "\t 26-04-2015                  & Delhi                       & Delhi Daredevils            & Royal Challengers Bangalore & Royal Challengers Bangalore & wickets                     & 10                         \\\\\n",
       "\t 21-04-2016                  & Rajkot                      & Gujarat Lions               & Sunrisers Hyderabad         & Sunrisers Hyderabad         & wickets                     & 10                         \\\\\n",
       "\t 07-04-2017                  & Rajkot                      & Gujarat Lions               & Kolkata Knight Riders       & Kolkata Knight Riders       & wickets                     & 10                         \\\\\n",
       "\t 30-04-2017                  & Chandigarh                  & Kings XI Punjab             & Delhi Daredevils            & Kings XI Punjab             & wickets                     & 10                         \\\\\n",
       "\t 14-05-2018                  & Indore                      & Kings XI Punjab             & Royal Challengers Bangalore & Royal Challengers Bangalore & wickets                     & 10                         \\\\\n",
       "\t 03-11-2020                  & Sharjah                     & Mumbai Indians              & Sunrisers Hyderabad         & Sunrisers Hyderabad         & wickets                     & 10                         \\\\\n",
       "\t 04-10-2020                  & Dubai                       & Kings XI Punjab             & Chennai Super Kings         & Chennai Super Kings         & wickets                     & 10                         \\\\\n",
       "\t 23-10-2020                  & Sharjah                     & Chennai Super Kings         & Mumbai Indians              & Mumbai Indians              & wickets                     & 10                         \\\\\n",
       "\\end{tabular}\n"
      ],
      "text/markdown": [
       "\n",
       "| date | city | team1 | team2 | winner | result | result_margin |\n",
       "|---|---|---|---|---|---|---|\n",
       "| 27-04-2008                  | Mumbai                      | Mumbai Indians              | Deccan Chargers             | Deccan Chargers             | wickets                     | 10                          |\n",
       "| 19-04-2009                  | Cape Town                   | Delhi Daredevils            | Kings XI Punjab             | Delhi Daredevils            | wickets                     | 10                          |\n",
       "| 18-03-2010                  | Bangalore                   | Royal Challengers Bangalore | Rajasthan Royals            | Royal Challengers Bangalore | wickets                     | 10                          |\n",
       "| 20-05-2011                  | Mumbai                      | Mumbai Indians              | Rajasthan Royals            | Rajasthan Royals            | wickets                     | 10                          |\n",
       "| 20-05-2012                  | Jaipur                      | Rajasthan Royals            | Mumbai Indians              | Mumbai Indians              | wickets                     | 10                          |\n",
       "| 10-04-2013                  | Chandigarh                  | Kings XI Punjab             | Chennai Super Kings         | Chennai Super Kings         | wickets                     | 10                          |\n",
       "| 26-04-2015                  | Delhi                       | Delhi Daredevils            | Royal Challengers Bangalore | Royal Challengers Bangalore | wickets                     | 10                          |\n",
       "| 21-04-2016                  | Rajkot                      | Gujarat Lions               | Sunrisers Hyderabad         | Sunrisers Hyderabad         | wickets                     | 10                          |\n",
       "| 07-04-2017                  | Rajkot                      | Gujarat Lions               | Kolkata Knight Riders       | Kolkata Knight Riders       | wickets                     | 10                          |\n",
       "| 30-04-2017                  | Chandigarh                  | Kings XI Punjab             | Delhi Daredevils            | Kings XI Punjab             | wickets                     | 10                          |\n",
       "| 14-05-2018                  | Indore                      | Kings XI Punjab             | Royal Challengers Bangalore | Royal Challengers Bangalore | wickets                     | 10                          |\n",
       "| 03-11-2020                  | Sharjah                     | Mumbai Indians              | Sunrisers Hyderabad         | Sunrisers Hyderabad         | wickets                     | 10                          |\n",
       "| 04-10-2020                  | Dubai                       | Kings XI Punjab             | Chennai Super Kings         | Chennai Super Kings         | wickets                     | 10                          |\n",
       "| 23-10-2020                  | Sharjah                     | Chennai Super Kings         | Mumbai Indians              | Mumbai Indians              | wickets                     | 10                          |\n",
       "\n"
      ],
      "text/plain": [
       "   date       city       team1                      \n",
       "1  27-04-2008 Mumbai     Mumbai Indians             \n",
       "2  19-04-2009 Cape Town  Delhi Daredevils           \n",
       "3  18-03-2010 Bangalore  Royal Challengers Bangalore\n",
       "4  20-05-2011 Mumbai     Mumbai Indians             \n",
       "5  20-05-2012 Jaipur     Rajasthan Royals           \n",
       "6  10-04-2013 Chandigarh Kings XI Punjab            \n",
       "7  26-04-2015 Delhi      Delhi Daredevils           \n",
       "8  21-04-2016 Rajkot     Gujarat Lions              \n",
       "9  07-04-2017 Rajkot     Gujarat Lions              \n",
       "10 30-04-2017 Chandigarh Kings XI Punjab            \n",
       "11 14-05-2018 Indore     Kings XI Punjab            \n",
       "12 03-11-2020 Sharjah    Mumbai Indians             \n",
       "13 04-10-2020 Dubai      Kings XI Punjab            \n",
       "14 23-10-2020 Sharjah    Chennai Super Kings        \n",
       "   team2                       winner                      result \n",
       "1  Deccan Chargers             Deccan Chargers             wickets\n",
       "2  Kings XI Punjab             Delhi Daredevils            wickets\n",
       "3  Rajasthan Royals            Royal Challengers Bangalore wickets\n",
       "4  Rajasthan Royals            Rajasthan Royals            wickets\n",
       "5  Mumbai Indians              Mumbai Indians              wickets\n",
       "6  Chennai Super Kings         Chennai Super Kings         wickets\n",
       "7  Royal Challengers Bangalore Royal Challengers Bangalore wickets\n",
       "8  Sunrisers Hyderabad         Sunrisers Hyderabad         wickets\n",
       "9  Kolkata Knight Riders       Kolkata Knight Riders       wickets\n",
       "10 Delhi Daredevils            Kings XI Punjab             wickets\n",
       "11 Royal Challengers Bangalore Royal Challengers Bangalore wickets\n",
       "12 Sunrisers Hyderabad         Sunrisers Hyderabad         wickets\n",
       "13 Chennai Super Kings         Chennai Super Kings         wickets\n",
       "14 Mumbai Indians              Mumbai Indians              wickets\n",
       "   result_margin\n",
       "1  10           \n",
       "2  10           \n",
       "3  10           \n",
       "4  10           \n",
       "5  10           \n",
       "6  10           \n",
       "7  10           \n",
       "8  10           \n",
       "9  10           \n",
       "10 10           \n",
       "11 10           \n",
       "12 10           \n",
       "13 10           \n",
       "14 10           "
      ]
     },
     "metadata": {},
     "output_type": "display_data"
    }
   ],
   "source": [
    "win.by.10.wks = ipl %>% group_by(winner) %>% \n",
    "  filter(result == 'wickets') %>% filter(result_margin == 10) %>% \n",
    "  select(date, city, team1, team2, winner, result, result_margin)\n",
    "\n",
    "win.by.10.wks = as.data.frame(win.by.10.wks)\n",
    "\n",
    "win.by.10.wks\n"
   ]
  }
 ],
 "metadata": {
  "kernelspec": {
   "display_name": "R",
   "language": "R",
   "name": "ir"
  },
  "language_info": {
   "codemirror_mode": "r",
   "file_extension": ".r",
   "mimetype": "text/x-r-source",
   "name": "R",
   "pygments_lexer": "r",
   "version": "3.6.1"
  }
 },
 "nbformat": 4,
 "nbformat_minor": 5
}
